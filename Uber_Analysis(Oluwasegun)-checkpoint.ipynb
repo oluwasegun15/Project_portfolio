{
 "cells": [
  {
   "cell_type": "code",
   "execution_count": null,
   "id": "de695b3b",
   "metadata": {},
   "outputs": [],
   "source": []
  },
  {
   "cell_type": "code",
   "execution_count": 1,
   "id": "ad344ea9",
   "metadata": {},
   "outputs": [],
   "source": [
    "import pandas as pd\n",
    "import seaborn as sns\n",
    "import matplotlib.pyplot as plt\n",
    "import numpy as np\n",
    "\n",
    "plt.style.use('ggplot')\n",
    "import warnings\n",
    "warnings.filterwarnings('ignore')"
   ]
  },
  {
   "cell_type": "code",
   "execution_count": 2,
   "id": "d6e48562",
   "metadata": {},
   "outputs": [],
   "source": [
    "uber_15 = pd.read_csv(r'C:\\Users\\Oluwasegun\\Downloads\\Project 1..Uber New York Trip-20221224T155136Z-001\\Project 1..Uber New York Trip\\uber-pickups-in-new-york-city\\uber-raw-data-janjune-15.csv',encoding='utf-8')"
   ]
  },
  {
   "cell_type": "code",
   "execution_count": 3,
   "id": "45d60835",
   "metadata": {},
   "outputs": [
    {
     "data": {
      "text/html": [
       "<div>\n",
       "<style scoped>\n",
       "    .dataframe tbody tr th:only-of-type {\n",
       "        vertical-align: middle;\n",
       "    }\n",
       "\n",
       "    .dataframe tbody tr th {\n",
       "        vertical-align: top;\n",
       "    }\n",
       "\n",
       "    .dataframe thead th {\n",
       "        text-align: right;\n",
       "    }\n",
       "</style>\n",
       "<table border=\"1\" class=\"dataframe\">\n",
       "  <thead>\n",
       "    <tr style=\"text-align: right;\">\n",
       "      <th></th>\n",
       "      <th>Dispatching_base_num</th>\n",
       "      <th>Pickup_date</th>\n",
       "      <th>Affiliated_base_num</th>\n",
       "      <th>locationID</th>\n",
       "    </tr>\n",
       "  </thead>\n",
       "  <tbody>\n",
       "    <tr>\n",
       "      <th>0</th>\n",
       "      <td>B02617</td>\n",
       "      <td>2015-05-17 09:47:00</td>\n",
       "      <td>B02617</td>\n",
       "      <td>141</td>\n",
       "    </tr>\n",
       "    <tr>\n",
       "      <th>1</th>\n",
       "      <td>B02617</td>\n",
       "      <td>2015-05-17 09:47:00</td>\n",
       "      <td>B02617</td>\n",
       "      <td>65</td>\n",
       "    </tr>\n",
       "    <tr>\n",
       "      <th>2</th>\n",
       "      <td>B02617</td>\n",
       "      <td>2015-05-17 09:47:00</td>\n",
       "      <td>B02617</td>\n",
       "      <td>100</td>\n",
       "    </tr>\n",
       "    <tr>\n",
       "      <th>3</th>\n",
       "      <td>B02617</td>\n",
       "      <td>2015-05-17 09:47:00</td>\n",
       "      <td>B02774</td>\n",
       "      <td>80</td>\n",
       "    </tr>\n",
       "    <tr>\n",
       "      <th>4</th>\n",
       "      <td>B02617</td>\n",
       "      <td>2015-05-17 09:47:00</td>\n",
       "      <td>B02617</td>\n",
       "      <td>90</td>\n",
       "    </tr>\n",
       "  </tbody>\n",
       "</table>\n",
       "</div>"
      ],
      "text/plain": [
       "  Dispatching_base_num          Pickup_date Affiliated_base_num  locationID\n",
       "0               B02617  2015-05-17 09:47:00              B02617         141\n",
       "1               B02617  2015-05-17 09:47:00              B02617          65\n",
       "2               B02617  2015-05-17 09:47:00              B02617         100\n",
       "3               B02617  2015-05-17 09:47:00              B02774          80\n",
       "4               B02617  2015-05-17 09:47:00              B02617          90"
      ]
     },
     "execution_count": 3,
     "metadata": {},
     "output_type": "execute_result"
    }
   ],
   "source": [
    "uber_15.head()"
   ]
  },
  {
   "cell_type": "code",
   "execution_count": 4,
   "id": "af58fd7f",
   "metadata": {},
   "outputs": [
    {
     "data": {
      "text/plain": [
       "(14270479, 4)"
      ]
     },
     "execution_count": 4,
     "metadata": {},
     "output_type": "execute_result"
    }
   ],
   "source": [
    "uber_15.shape"
   ]
  },
  {
   "cell_type": "code",
   "execution_count": 5,
   "id": "f62fc30c",
   "metadata": {},
   "outputs": [
    {
     "data": {
      "text/plain": [
       "898225"
      ]
     },
     "execution_count": 5,
     "metadata": {},
     "output_type": "execute_result"
    }
   ],
   "source": [
    "uber_15.duplicated().sum()"
   ]
  },
  {
   "cell_type": "code",
   "execution_count": 6,
   "id": "a78629ce",
   "metadata": {},
   "outputs": [],
   "source": [
    "uber_15.drop_duplicates(inplace=True)"
   ]
  },
  {
   "cell_type": "code",
   "execution_count": 7,
   "id": "5162e1a5",
   "metadata": {},
   "outputs": [
    {
     "data": {
      "text/plain": [
       "(13372254, 4)"
      ]
     },
     "execution_count": 7,
     "metadata": {},
     "output_type": "execute_result"
    }
   ],
   "source": [
    "uber_15.shape"
   ]
  },
  {
   "cell_type": "markdown",
   "id": "4f778311",
   "metadata": {},
   "source": [
    "### Which month have max. Uber pickups in New York City ?"
   ]
  },
  {
   "cell_type": "code",
   "execution_count": 8,
   "id": "61f8571a",
   "metadata": {},
   "outputs": [
    {
     "data": {
      "text/plain": [
       "Dispatching_base_num    object\n",
       "Pickup_date             object\n",
       "Affiliated_base_num     object\n",
       "locationID               int64\n",
       "dtype: object"
      ]
     },
     "execution_count": 8,
     "metadata": {},
     "output_type": "execute_result"
    }
   ],
   "source": [
    "uber_15.dtypes"
   ]
  },
  {
   "cell_type": "code",
   "execution_count": 9,
   "id": "6f536ad4",
   "metadata": {},
   "outputs": [],
   "source": [
    "uber_15['Pickup_date'] = pd.to_datetime(uber_15['Pickup_date'], format='%Y-%m-%d %H:%M:%S')"
   ]
  },
  {
   "cell_type": "code",
   "execution_count": 10,
   "id": "7c6e54ec",
   "metadata": {},
   "outputs": [
    {
     "data": {
      "text/plain": [
       "dtype('<M8[ns]')"
      ]
     },
     "execution_count": 10,
     "metadata": {},
     "output_type": "execute_result"
    }
   ],
   "source": [
    "uber_15['Pickup_date'].dtype"
   ]
  },
  {
   "cell_type": "code",
   "execution_count": 11,
   "id": "cdbe053b",
   "metadata": {},
   "outputs": [],
   "source": [
    "uber_15['month'] = uber_15['Pickup_date'].dt.month"
   ]
  },
  {
   "cell_type": "code",
   "execution_count": 12,
   "id": "a517491a",
   "metadata": {},
   "outputs": [
    {
     "data": {
      "text/plain": [
       "0    5\n",
       "1    5\n",
       "2    5\n",
       "3    5\n",
       "4    5\n",
       "Name: month, dtype: int64"
      ]
     },
     "execution_count": 12,
     "metadata": {},
     "output_type": "execute_result"
    }
   ],
   "source": [
    "uber_15['month'].head()"
   ]
  },
  {
   "cell_type": "code",
   "execution_count": 13,
   "id": "a1b5c464",
   "metadata": {},
   "outputs": [
    {
     "data": {
      "text/plain": [
       "<AxesSubplot:>"
      ]
     },
     "execution_count": 13,
     "metadata": {},
     "output_type": "execute_result"
    },
    {
     "data": {
      "image/png": "[encoded data removed]",
      "text/plain": [
       "<Figure size 432x288 with 1 Axes>"
      ]
     },
     "metadata": {
      "needs_background": "light"
     },
     "output_type": "display_data"
    }
   ],
   "source": [
    "uber_15['month'].value_counts().plot(kind='bar')"
   ]
  },
  {
   "cell_type": "markdown",
   "id": "bcf55ea7",
   "metadata": {},
   "source": [
    "## Lets Find out Total trips for each month & each weekdays"
   ]
  },
  {
   "cell_type": "code",
   "execution_count": 14,
   "id": "367e9b56",
   "metadata": {},
   "outputs": [],
   "source": [
    "uber_15['weekday']=uber_15['Pickup_date'].dt.day_name()\n",
    "uber_15['day'] = uber_15['Pickup_date'].dt.day\n",
    "uber_15['hour']=uber_15['Pickup_date'].dt.hour\n",
    "uber_15['month']=uber_15['Pickup_date'].dt.month\n",
    "uber_15['minute']=uber_15['Pickup_date'].dt.minute"
   ]
  },
  {
   "cell_type": "code",
   "execution_count": 15,
   "id": "c2ceb822",
   "metadata": {},
   "outputs": [
    {
     "data": {
      "text/html": [
       "<div>\n",
       "<style scoped>\n",
       "    .dataframe tbody tr th:only-of-type {\n",
       "        vertical-align: middle;\n",
       "    }\n",
       "\n",
       "    .dataframe tbody tr th {\n",
       "        vertical-align: top;\n",
       "    }\n",
       "\n",
       "    .dataframe thead th {\n",
       "        text-align: right;\n",
       "    }\n",
       "</style>\n",
       "<table border=\"1\" class=\"dataframe\">\n",
       "  <thead>\n",
       "    <tr style=\"text-align: right;\">\n",
       "      <th></th>\n",
       "      <th>Dispatching_base_num</th>\n",
       "      <th>Pickup_date</th>\n",
       "      <th>Affiliated_base_num</th>\n",
       "      <th>locationID</th>\n",
       "      <th>month</th>\n",
       "      <th>weekday</th>\n",
       "      <th>day</th>\n",
       "      <th>hour</th>\n",
       "      <th>minute</th>\n",
       "    </tr>\n",
       "  </thead>\n",
       "  <tbody>\n",
       "    <tr>\n",
       "      <th>0</th>\n",
       "      <td>B02617</td>\n",
       "      <td>2015-05-17 09:47:00</td>\n",
       "      <td>B02617</td>\n",
       "      <td>141</td>\n",
       "      <td>5</td>\n",
       "      <td>Sunday</td>\n",
       "      <td>17</td>\n",
       "      <td>9</td>\n",
       "      <td>47</td>\n",
       "    </tr>\n",
       "    <tr>\n",
       "      <th>1</th>\n",
       "      <td>B02617</td>\n",
       "      <td>2015-05-17 09:47:00</td>\n",
       "      <td>B02617</td>\n",
       "      <td>65</td>\n",
       "      <td>5</td>\n",
       "      <td>Sunday</td>\n",
       "      <td>17</td>\n",
       "      <td>9</td>\n",
       "      <td>47</td>\n",
       "    </tr>\n",
       "    <tr>\n",
       "      <th>2</th>\n",
       "      <td>B02617</td>\n",
       "      <td>2015-05-17 09:47:00</td>\n",
       "      <td>B02617</td>\n",
       "      <td>100</td>\n",
       "      <td>5</td>\n",
       "      <td>Sunday</td>\n",
       "      <td>17</td>\n",
       "      <td>9</td>\n",
       "      <td>47</td>\n",
       "    </tr>\n",
       "    <tr>\n",
       "      <th>3</th>\n",
       "      <td>B02617</td>\n",
       "      <td>2015-05-17 09:47:00</td>\n",
       "      <td>B02774</td>\n",
       "      <td>80</td>\n",
       "      <td>5</td>\n",
       "      <td>Sunday</td>\n",
       "      <td>17</td>\n",
       "      <td>9</td>\n",
       "      <td>47</td>\n",
       "    </tr>\n",
       "    <tr>\n",
       "      <th>4</th>\n",
       "      <td>B02617</td>\n",
       "      <td>2015-05-17 09:47:00</td>\n",
       "      <td>B02617</td>\n",
       "      <td>90</td>\n",
       "      <td>5</td>\n",
       "      <td>Sunday</td>\n",
       "      <td>17</td>\n",
       "      <td>9</td>\n",
       "      <td>47</td>\n",
       "    </tr>\n",
       "  </tbody>\n",
       "</table>\n",
       "</div>"
      ],
      "text/plain": [
       "  Dispatching_base_num         Pickup_date Affiliated_base_num  locationID  \\\n",
       "0               B02617 2015-05-17 09:47:00              B02617         141   \n",
       "1               B02617 2015-05-17 09:47:00              B02617          65   \n",
       "2               B02617 2015-05-17 09:47:00              B02617         100   \n",
       "3               B02617 2015-05-17 09:47:00              B02774          80   \n",
       "4               B02617 2015-05-17 09:47:00              B02617          90   \n",
       "\n",
       "   month weekday  day  hour  minute  \n",
       "0      5  Sunday   17     9      47  \n",
       "1      5  Sunday   17     9      47  \n",
       "2      5  Sunday   17     9      47  \n",
       "3      5  Sunday   17     9      47  \n",
       "4      5  Sunday   17     9      47  "
      ]
     },
     "execution_count": 15,
     "metadata": {},
     "output_type": "execute_result"
    }
   ],
   "source": [
    "uber_15.head()"
   ]
  },
  {
   "cell_type": "code",
   "execution_count": 16,
   "id": "02ae21e5",
   "metadata": {},
   "outputs": [
    {
     "data": {
      "text/html": [
       "<div>\n",
       "<style scoped>\n",
       "    .dataframe tbody tr th:only-of-type {\n",
       "        vertical-align: middle;\n",
       "    }\n",
       "\n",
       "    .dataframe tbody tr th {\n",
       "        vertical-align: top;\n",
       "    }\n",
       "\n",
       "    .dataframe thead th {\n",
       "        text-align: right;\n",
       "    }\n",
       "</style>\n",
       "<table border=\"1\" class=\"dataframe\">\n",
       "  <thead>\n",
       "    <tr style=\"text-align: right;\">\n",
       "      <th></th>\n",
       "      <th>month</th>\n",
       "      <th>weekday</th>\n",
       "      <th>size</th>\n",
       "    </tr>\n",
       "  </thead>\n",
       "  <tbody>\n",
       "    <tr>\n",
       "      <th>0</th>\n",
       "      <td>1</td>\n",
       "      <td>Friday</td>\n",
       "      <td>339285</td>\n",
       "    </tr>\n",
       "    <tr>\n",
       "      <th>1</th>\n",
       "      <td>1</td>\n",
       "      <td>Monday</td>\n",
       "      <td>190606</td>\n",
       "    </tr>\n",
       "    <tr>\n",
       "      <th>2</th>\n",
       "      <td>1</td>\n",
       "      <td>Saturday</td>\n",
       "      <td>386049</td>\n",
       "    </tr>\n",
       "    <tr>\n",
       "      <th>3</th>\n",
       "      <td>1</td>\n",
       "      <td>Sunday</td>\n",
       "      <td>230487</td>\n",
       "    </tr>\n",
       "    <tr>\n",
       "      <th>4</th>\n",
       "      <td>1</td>\n",
       "      <td>Thursday</td>\n",
       "      <td>330319</td>\n",
       "    </tr>\n",
       "  </tbody>\n",
       "</table>\n",
       "</div>"
      ],
      "text/plain": [
       "   month   weekday    size\n",
       "0      1    Friday  339285\n",
       "1      1    Monday  190606\n",
       "2      1  Saturday  386049\n",
       "3      1    Sunday  230487\n",
       "4      1  Thursday  330319"
      ]
     },
     "execution_count": 16,
     "metadata": {},
     "output_type": "execute_result"
    }
   ],
   "source": [
    "temp=uber_15.groupby(['month','weekday'],as_index=False).size()\n",
    "temp.head()"
   ]
  },
  {
   "cell_type": "code",
   "execution_count": 17,
   "id": "cd4701a4",
   "metadata": {},
   "outputs": [
    {
     "data": {
      "text/plain": [
       "array([1, 2, 3, 4, 5, 6], dtype=int64)"
      ]
     },
     "execution_count": 17,
     "metadata": {},
     "output_type": "execute_result"
    }
   ],
   "source": [
    "temp['month'].unique()"
   ]
  },
  {
   "cell_type": "code",
   "execution_count": 18,
   "id": "c3c5202a",
   "metadata": {},
   "outputs": [
    {
     "data": {
      "text/plain": [
       "{1: 'Jan', 2: 'Feb', 3: 'March', 4: 'April', 5: 'May', 6: 'June'}"
      ]
     },
     "execution_count": 18,
     "metadata": {},
     "output_type": "execute_result"
    }
   ],
   "source": [
    "dict_month = {1:'Jan',2:'Feb',3:'March',4:'April',5:'May',6:'June'}\n",
    "dict_month"
   ]
  },
  {
   "cell_type": "code",
   "execution_count": 19,
   "id": "2d67f90c",
   "metadata": {},
   "outputs": [],
   "source": [
    "temp['month'] = temp['month'].map(dict_month)"
   ]
  },
  {
   "cell_type": "code",
   "execution_count": 20,
   "id": "5500679d",
   "metadata": {},
   "outputs": [
    {
     "data": {
      "text/plain": [
       "0       Jan\n",
       "1       Jan\n",
       "2       Jan\n",
       "3       Jan\n",
       "4       Jan\n",
       "5       Jan\n",
       "6       Jan\n",
       "7       Feb\n",
       "8       Feb\n",
       "9       Feb\n",
       "10      Feb\n",
       "11      Feb\n",
       "12      Feb\n",
       "13      Feb\n",
       "14    March\n",
       "15    March\n",
       "16    March\n",
       "17    March\n",
       "18    March\n",
       "19    March\n",
       "20    March\n",
       "21    April\n",
       "22    April\n",
       "23    April\n",
       "24    April\n",
       "25    April\n",
       "26    April\n",
       "27    April\n",
       "28      May\n",
       "29      May\n",
       "30      May\n",
       "31      May\n",
       "32      May\n",
       "33      May\n",
       "34      May\n",
       "35     June\n",
       "36     June\n",
       "37     June\n",
       "38     June\n",
       "39     June\n",
       "40     June\n",
       "41     June\n",
       "Name: month, dtype: object"
      ]
     },
     "execution_count": 20,
     "metadata": {},
     "output_type": "execute_result"
    }
   ],
   "source": [
    "temp['month']"
   ]
  },
  {
   "cell_type": "code",
   "execution_count": 21,
   "id": "e3eeff92",
   "metadata": {},
   "outputs": [
    {
     "data": {
      "text/plain": [
       "pandas.core.series.Series"
      ]
     },
     "execution_count": 21,
     "metadata": {},
     "output_type": "execute_result"
    }
   ],
   "source": [
    "type(uber_15.groupby(['month','weekday']).size())"
   ]
  },
  {
   "cell_type": "code",
   "execution_count": 22,
   "id": "44579517",
   "metadata": {},
   "outputs": [
    {
     "data": {
      "text/html": [
       "<div>\n",
       "<style scoped>\n",
       "    .dataframe tbody tr th:only-of-type {\n",
       "        vertical-align: middle;\n",
       "    }\n",
       "\n",
       "    .dataframe tbody tr th {\n",
       "        vertical-align: top;\n",
       "    }\n",
       "\n",
       "    .dataframe thead th {\n",
       "        text-align: right;\n",
       "    }\n",
       "</style>\n",
       "<table border=\"1\" class=\"dataframe\">\n",
       "  <thead>\n",
       "    <tr style=\"text-align: right;\">\n",
       "      <th></th>\n",
       "      <th>month</th>\n",
       "      <th>weekday</th>\n",
       "      <th>size</th>\n",
       "    </tr>\n",
       "  </thead>\n",
       "  <tbody>\n",
       "    <tr>\n",
       "      <th>0</th>\n",
       "      <td>Jan</td>\n",
       "      <td>Friday</td>\n",
       "      <td>339285</td>\n",
       "    </tr>\n",
       "    <tr>\n",
       "      <th>1</th>\n",
       "      <td>Jan</td>\n",
       "      <td>Monday</td>\n",
       "      <td>190606</td>\n",
       "    </tr>\n",
       "    <tr>\n",
       "      <th>2</th>\n",
       "      <td>Jan</td>\n",
       "      <td>Saturday</td>\n",
       "      <td>386049</td>\n",
       "    </tr>\n",
       "    <tr>\n",
       "      <th>3</th>\n",
       "      <td>Jan</td>\n",
       "      <td>Sunday</td>\n",
       "      <td>230487</td>\n",
       "    </tr>\n",
       "    <tr>\n",
       "      <th>4</th>\n",
       "      <td>Jan</td>\n",
       "      <td>Thursday</td>\n",
       "      <td>330319</td>\n",
       "    </tr>\n",
       "    <tr>\n",
       "      <th>5</th>\n",
       "      <td>Jan</td>\n",
       "      <td>Tuesday</td>\n",
       "      <td>196574</td>\n",
       "    </tr>\n",
       "    <tr>\n",
       "      <th>6</th>\n",
       "      <td>Jan</td>\n",
       "      <td>Wednesday</td>\n",
       "      <td>245650</td>\n",
       "    </tr>\n",
       "    <tr>\n",
       "      <th>7</th>\n",
       "      <td>Feb</td>\n",
       "      <td>Friday</td>\n",
       "      <td>373550</td>\n",
       "    </tr>\n",
       "    <tr>\n",
       "      <th>8</th>\n",
       "      <td>Feb</td>\n",
       "      <td>Monday</td>\n",
       "      <td>274948</td>\n",
       "    </tr>\n",
       "    <tr>\n",
       "      <th>9</th>\n",
       "      <td>Feb</td>\n",
       "      <td>Saturday</td>\n",
       "      <td>368311</td>\n",
       "    </tr>\n",
       "    <tr>\n",
       "      <th>10</th>\n",
       "      <td>Feb</td>\n",
       "      <td>Sunday</td>\n",
       "      <td>296130</td>\n",
       "    </tr>\n",
       "    <tr>\n",
       "      <th>11</th>\n",
       "      <td>Feb</td>\n",
       "      <td>Thursday</td>\n",
       "      <td>335603</td>\n",
       "    </tr>\n",
       "    <tr>\n",
       "      <th>12</th>\n",
       "      <td>Feb</td>\n",
       "      <td>Tuesday</td>\n",
       "      <td>287260</td>\n",
       "    </tr>\n",
       "    <tr>\n",
       "      <th>13</th>\n",
       "      <td>Feb</td>\n",
       "      <td>Wednesday</td>\n",
       "      <td>286387</td>\n",
       "    </tr>\n",
       "    <tr>\n",
       "      <th>14</th>\n",
       "      <td>March</td>\n",
       "      <td>Friday</td>\n",
       "      <td>309631</td>\n",
       "    </tr>\n",
       "    <tr>\n",
       "      <th>15</th>\n",
       "      <td>March</td>\n",
       "      <td>Monday</td>\n",
       "      <td>269931</td>\n",
       "    </tr>\n",
       "    <tr>\n",
       "      <th>16</th>\n",
       "      <td>March</td>\n",
       "      <td>Saturday</td>\n",
       "      <td>314785</td>\n",
       "    </tr>\n",
       "    <tr>\n",
       "      <th>17</th>\n",
       "      <td>March</td>\n",
       "      <td>Sunday</td>\n",
       "      <td>313865</td>\n",
       "    </tr>\n",
       "    <tr>\n",
       "      <th>18</th>\n",
       "      <td>March</td>\n",
       "      <td>Thursday</td>\n",
       "      <td>277026</td>\n",
       "    </tr>\n",
       "    <tr>\n",
       "      <th>19</th>\n",
       "      <td>March</td>\n",
       "      <td>Tuesday</td>\n",
       "      <td>320634</td>\n",
       "    </tr>\n",
       "    <tr>\n",
       "      <th>20</th>\n",
       "      <td>March</td>\n",
       "      <td>Wednesday</td>\n",
       "      <td>256767</td>\n",
       "    </tr>\n",
       "    <tr>\n",
       "      <th>21</th>\n",
       "      <td>April</td>\n",
       "      <td>Friday</td>\n",
       "      <td>315002</td>\n",
       "    </tr>\n",
       "    <tr>\n",
       "      <th>22</th>\n",
       "      <td>April</td>\n",
       "      <td>Monday</td>\n",
       "      <td>238429</td>\n",
       "    </tr>\n",
       "    <tr>\n",
       "      <th>23</th>\n",
       "      <td>April</td>\n",
       "      <td>Saturday</td>\n",
       "      <td>324545</td>\n",
       "    </tr>\n",
       "    <tr>\n",
       "      <th>24</th>\n",
       "      <td>April</td>\n",
       "      <td>Sunday</td>\n",
       "      <td>273560</td>\n",
       "    </tr>\n",
       "    <tr>\n",
       "      <th>25</th>\n",
       "      <td>April</td>\n",
       "      <td>Thursday</td>\n",
       "      <td>372522</td>\n",
       "    </tr>\n",
       "    <tr>\n",
       "      <th>26</th>\n",
       "      <td>April</td>\n",
       "      <td>Tuesday</td>\n",
       "      <td>250632</td>\n",
       "    </tr>\n",
       "    <tr>\n",
       "      <th>27</th>\n",
       "      <td>April</td>\n",
       "      <td>Wednesday</td>\n",
       "      <td>338015</td>\n",
       "    </tr>\n",
       "    <tr>\n",
       "      <th>28</th>\n",
       "      <td>May</td>\n",
       "      <td>Friday</td>\n",
       "      <td>430134</td>\n",
       "    </tr>\n",
       "    <tr>\n",
       "      <th>29</th>\n",
       "      <td>May</td>\n",
       "      <td>Monday</td>\n",
       "      <td>255501</td>\n",
       "    </tr>\n",
       "    <tr>\n",
       "      <th>30</th>\n",
       "      <td>May</td>\n",
       "      <td>Saturday</td>\n",
       "      <td>464298</td>\n",
       "    </tr>\n",
       "    <tr>\n",
       "      <th>31</th>\n",
       "      <td>May</td>\n",
       "      <td>Sunday</td>\n",
       "      <td>390391</td>\n",
       "    </tr>\n",
       "    <tr>\n",
       "      <th>32</th>\n",
       "      <td>May</td>\n",
       "      <td>Thursday</td>\n",
       "      <td>337607</td>\n",
       "    </tr>\n",
       "    <tr>\n",
       "      <th>33</th>\n",
       "      <td>May</td>\n",
       "      <td>Tuesday</td>\n",
       "      <td>290004</td>\n",
       "    </tr>\n",
       "    <tr>\n",
       "      <th>34</th>\n",
       "      <td>May</td>\n",
       "      <td>Wednesday</td>\n",
       "      <td>316045</td>\n",
       "    </tr>\n",
       "    <tr>\n",
       "      <th>35</th>\n",
       "      <td>June</td>\n",
       "      <td>Friday</td>\n",
       "      <td>371225</td>\n",
       "    </tr>\n",
       "    <tr>\n",
       "      <th>36</th>\n",
       "      <td>June</td>\n",
       "      <td>Monday</td>\n",
       "      <td>375312</td>\n",
       "    </tr>\n",
       "    <tr>\n",
       "      <th>37</th>\n",
       "      <td>June</td>\n",
       "      <td>Saturday</td>\n",
       "      <td>399377</td>\n",
       "    </tr>\n",
       "    <tr>\n",
       "      <th>38</th>\n",
       "      <td>June</td>\n",
       "      <td>Sunday</td>\n",
       "      <td>334434</td>\n",
       "    </tr>\n",
       "    <tr>\n",
       "      <th>39</th>\n",
       "      <td>June</td>\n",
       "      <td>Thursday</td>\n",
       "      <td>357782</td>\n",
       "    </tr>\n",
       "    <tr>\n",
       "      <th>40</th>\n",
       "      <td>June</td>\n",
       "      <td>Tuesday</td>\n",
       "      <td>405500</td>\n",
       "    </tr>\n",
       "    <tr>\n",
       "      <th>41</th>\n",
       "      <td>June</td>\n",
       "      <td>Wednesday</td>\n",
       "      <td>328141</td>\n",
       "    </tr>\n",
       "  </tbody>\n",
       "</table>\n",
       "</div>"
      ],
      "text/plain": [
       "    month    weekday    size\n",
       "0     Jan     Friday  339285\n",
       "1     Jan     Monday  190606\n",
       "2     Jan   Saturday  386049\n",
       "3     Jan     Sunday  230487\n",
       "4     Jan   Thursday  330319\n",
       "5     Jan    Tuesday  196574\n",
       "6     Jan  Wednesday  245650\n",
       "7     Feb     Friday  373550\n",
       "8     Feb     Monday  274948\n",
       "9     Feb   Saturday  368311\n",
       "10    Feb     Sunday  296130\n",
       "11    Feb   Thursday  335603\n",
       "12    Feb    Tuesday  287260\n",
       "13    Feb  Wednesday  286387\n",
       "14  March     Friday  309631\n",
       "15  March     Monday  269931\n",
       "16  March   Saturday  314785\n",
       "17  March     Sunday  313865\n",
       "18  March   Thursday  277026\n",
       "19  March    Tuesday  320634\n",
       "20  March  Wednesday  256767\n",
       "21  April     Friday  315002\n",
       "22  April     Monday  238429\n",
       "23  April   Saturday  324545\n",
       "24  April     Sunday  273560\n",
       "25  April   Thursday  372522\n",
       "26  April    Tuesday  250632\n",
       "27  April  Wednesday  338015\n",
       "28    May     Friday  430134\n",
       "29    May     Monday  255501\n",
       "30    May   Saturday  464298\n",
       "31    May     Sunday  390391\n",
       "32    May   Thursday  337607\n",
       "33    May    Tuesday  290004\n",
       "34    May  Wednesday  316045\n",
       "35   June     Friday  371225\n",
       "36   June     Monday  375312\n",
       "37   June   Saturday  399377\n",
       "38   June     Sunday  334434\n",
       "39   June   Thursday  357782\n",
       "40   June    Tuesday  405500\n",
       "41   June  Wednesday  328141"
      ]
     },
     "execution_count": 22,
     "metadata": {},
     "output_type": "execute_result"
    }
   ],
   "source": [
    "temp"
   ]
  },
  {
   "cell_type": "code",
   "execution_count": 23,
   "id": "a1a9b3de",
   "metadata": {},
   "outputs": [
    {
     "data": {
      "text/plain": [
       "<AxesSubplot:xlabel='month', ylabel='size'>"
      ]
     },
     "execution_count": 23,
     "metadata": {},
     "output_type": "execute_result"
    },
    {
     "data": {
      "image/png": "[encoded data removed]",
      "text/plain": [
       "<Figure size 864x576 with 1 Axes>"
      ]
     },
     "metadata": {
      "needs_background": "light"
     },
     "output_type": "display_data"
    }
   ],
   "source": [
    "plt.figure(figsize=(12,8))\n",
    "sns.barplot(x='month',y='size',hue='weekday',data=temp)"
   ]
  },
  {
   "cell_type": "markdown",
   "id": "ff594c13",
   "metadata": {},
   "source": [
    "## Lets Find out Hourly Rush in New york city on all days"
   ]
  },
  {
   "cell_type": "code",
   "execution_count": 24,
   "id": "f0b55621",
   "metadata": {},
   "outputs": [],
   "source": [
    "summary= uber_15.groupby(['weekday','hour'],as_index=False).size()"
   ]
  },
  {
   "cell_type": "code",
   "execution_count": 25,
   "id": "a82bca14",
   "metadata": {},
   "outputs": [
    {
     "data": {
      "text/html": [
       "<div>\n",
       "<style scoped>\n",
       "    .dataframe tbody tr th:only-of-type {\n",
       "        vertical-align: middle;\n",
       "    }\n",
       "\n",
       "    .dataframe tbody tr th {\n",
       "        vertical-align: top;\n",
       "    }\n",
       "\n",
       "    .dataframe thead th {\n",
       "        text-align: right;\n",
       "    }\n",
       "</style>\n",
       "<table border=\"1\" class=\"dataframe\">\n",
       "  <thead>\n",
       "    <tr style=\"text-align: right;\">\n",
       "      <th></th>\n",
       "      <th>weekday</th>\n",
       "      <th>hour</th>\n",
       "      <th>size</th>\n",
       "    </tr>\n",
       "  </thead>\n",
       "  <tbody>\n",
       "    <tr>\n",
       "      <th>0</th>\n",
       "      <td>Friday</td>\n",
       "      <td>0</td>\n",
       "      <td>79879</td>\n",
       "    </tr>\n",
       "    <tr>\n",
       "      <th>1</th>\n",
       "      <td>Friday</td>\n",
       "      <td>1</td>\n",
       "      <td>44563</td>\n",
       "    </tr>\n",
       "    <tr>\n",
       "      <th>2</th>\n",
       "      <td>Friday</td>\n",
       "      <td>2</td>\n",
       "      <td>27252</td>\n",
       "    </tr>\n",
       "    <tr>\n",
       "      <th>3</th>\n",
       "      <td>Friday</td>\n",
       "      <td>3</td>\n",
       "      <td>19076</td>\n",
       "    </tr>\n",
       "    <tr>\n",
       "      <th>4</th>\n",
       "      <td>Friday</td>\n",
       "      <td>4</td>\n",
       "      <td>23049</td>\n",
       "    </tr>\n",
       "    <tr>\n",
       "      <th>...</th>\n",
       "      <td>...</td>\n",
       "      <td>...</td>\n",
       "      <td>...</td>\n",
       "    </tr>\n",
       "    <tr>\n",
       "      <th>163</th>\n",
       "      <td>Wednesday</td>\n",
       "      <td>19</td>\n",
       "      <td>131317</td>\n",
       "    </tr>\n",
       "    <tr>\n",
       "      <th>164</th>\n",
       "      <td>Wednesday</td>\n",
       "      <td>20</td>\n",
       "      <td>123490</td>\n",
       "    </tr>\n",
       "    <tr>\n",
       "      <th>165</th>\n",
       "      <td>Wednesday</td>\n",
       "      <td>21</td>\n",
       "      <td>120941</td>\n",
       "    </tr>\n",
       "    <tr>\n",
       "      <th>166</th>\n",
       "      <td>Wednesday</td>\n",
       "      <td>22</td>\n",
       "      <td>115208</td>\n",
       "    </tr>\n",
       "    <tr>\n",
       "      <th>167</th>\n",
       "      <td>Wednesday</td>\n",
       "      <td>23</td>\n",
       "      <td>91631</td>\n",
       "    </tr>\n",
       "  </tbody>\n",
       "</table>\n",
       "<p>168 rows × 3 columns</p>\n",
       "</div>"
      ],
      "text/plain": [
       "       weekday  hour    size\n",
       "0       Friday     0   79879\n",
       "1       Friday     1   44563\n",
       "2       Friday     2   27252\n",
       "3       Friday     3   19076\n",
       "4       Friday     4   23049\n",
       "..         ...   ...     ...\n",
       "163  Wednesday    19  131317\n",
       "164  Wednesday    20  123490\n",
       "165  Wednesday    21  120941\n",
       "166  Wednesday    22  115208\n",
       "167  Wednesday    23   91631\n",
       "\n",
       "[168 rows x 3 columns]"
      ]
     },
     "execution_count": 25,
     "metadata": {},
     "output_type": "execute_result"
    }
   ],
   "source": [
    "summary"
   ]
  },
  {
   "cell_type": "code",
   "execution_count": 26,
   "id": "9380123d",
   "metadata": {},
   "outputs": [
    {
     "data": {
      "text/plain": [
       "<AxesSubplot:xlabel='hour', ylabel='size'>"
      ]
     },
     "execution_count": 26,
     "metadata": {},
     "output_type": "execute_result"
    },
    {
     "data": {
      "image/png": "[encoded data removed]",
      "text/plain": [
       "<Figure size 864x576 with 1 Axes>"
      ]
     },
     "metadata": {
      "needs_background": "light"
     },
     "output_type": "display_data"
    }
   ],
   "source": [
    "plt.figure(figsize=(12,8))\n",
    "sns.pointplot(x='hour',y='size',hue='weekday',data=summary)"
   ]
  },
  {
   "cell_type": "markdown",
   "id": "ad1dedd3",
   "metadata": {},
   "source": [
    "## Which Base_number has most number of Active Vehicles?"
   ]
  },
  {
   "cell_type": "code",
   "execution_count": 27,
   "id": "21dcacec",
   "metadata": {},
   "outputs": [
    {
     "data": {
      "text/html": [
       "<div>\n",
       "<style scoped>\n",
       "    .dataframe tbody tr th:only-of-type {\n",
       "        vertical-align: middle;\n",
       "    }\n",
       "\n",
       "    .dataframe tbody tr th {\n",
       "        vertical-align: top;\n",
       "    }\n",
       "\n",
       "    .dataframe thead th {\n",
       "        text-align: right;\n",
       "    }\n",
       "</style>\n",
       "<table border=\"1\" class=\"dataframe\">\n",
       "  <thead>\n",
       "    <tr style=\"text-align: right;\">\n",
       "      <th></th>\n",
       "      <th>Dispatching_base_num</th>\n",
       "      <th>Pickup_date</th>\n",
       "      <th>Affiliated_base_num</th>\n",
       "      <th>locationID</th>\n",
       "      <th>month</th>\n",
       "      <th>weekday</th>\n",
       "      <th>day</th>\n",
       "      <th>hour</th>\n",
       "      <th>minute</th>\n",
       "    </tr>\n",
       "  </thead>\n",
       "  <tbody>\n",
       "    <tr>\n",
       "      <th>0</th>\n",
       "      <td>B02617</td>\n",
       "      <td>2015-05-17 09:47:00</td>\n",
       "      <td>B02617</td>\n",
       "      <td>141</td>\n",
       "      <td>5</td>\n",
       "      <td>Sunday</td>\n",
       "      <td>17</td>\n",
       "      <td>9</td>\n",
       "      <td>47</td>\n",
       "    </tr>\n",
       "    <tr>\n",
       "      <th>1</th>\n",
       "      <td>B02617</td>\n",
       "      <td>2015-05-17 09:47:00</td>\n",
       "      <td>B02617</td>\n",
       "      <td>65</td>\n",
       "      <td>5</td>\n",
       "      <td>Sunday</td>\n",
       "      <td>17</td>\n",
       "      <td>9</td>\n",
       "      <td>47</td>\n",
       "    </tr>\n",
       "  </tbody>\n",
       "</table>\n",
       "</div>"
      ],
      "text/plain": [
       "  Dispatching_base_num         Pickup_date Affiliated_base_num  locationID  \\\n",
       "0               B02617 2015-05-17 09:47:00              B02617         141   \n",
       "1               B02617 2015-05-17 09:47:00              B02617          65   \n",
       "\n",
       "   month weekday  day  hour  minute  \n",
       "0      5  Sunday   17     9      47  \n",
       "1      5  Sunday   17     9      47  "
      ]
     },
     "execution_count": 27,
     "metadata": {},
     "output_type": "execute_result"
    }
   ],
   "source": [
    "uber_15.head(2)"
   ]
  },
  {
   "cell_type": "code",
   "execution_count": 28,
   "id": "ef6dca2b",
   "metadata": {},
   "outputs": [],
   "source": [
    "uber_foil = pd.read_csv(r'C:\\Users\\Oluwasegun\\Downloads\\Project 1..Uber New York Trip-20221224T155136Z-001\\Project 1..Uber New York Trip\\uber-pickups-in-new-york-city\\Uber-Jan-Feb-FOIL.csv')"
   ]
  },
  {
   "cell_type": "code",
   "execution_count": 29,
   "id": "21092750",
   "metadata": {},
   "outputs": [
    {
     "data": {
      "text/html": [
       "<div>\n",
       "<style scoped>\n",
       "    .dataframe tbody tr th:only-of-type {\n",
       "        vertical-align: middle;\n",
       "    }\n",
       "\n",
       "    .dataframe tbody tr th {\n",
       "        vertical-align: top;\n",
       "    }\n",
       "\n",
       "    .dataframe thead th {\n",
       "        text-align: right;\n",
       "    }\n",
       "</style>\n",
       "<table border=\"1\" class=\"dataframe\">\n",
       "  <thead>\n",
       "    <tr style=\"text-align: right;\">\n",
       "      <th></th>\n",
       "      <th>dispatching_base_number</th>\n",
       "      <th>date</th>\n",
       "      <th>active_vehicles</th>\n",
       "      <th>trips</th>\n",
       "    </tr>\n",
       "  </thead>\n",
       "  <tbody>\n",
       "    <tr>\n",
       "      <th>0</th>\n",
       "      <td>B02512</td>\n",
       "      <td>1/1/2015</td>\n",
       "      <td>190</td>\n",
       "      <td>1132</td>\n",
       "    </tr>\n",
       "    <tr>\n",
       "      <th>1</th>\n",
       "      <td>B02765</td>\n",
       "      <td>1/1/2015</td>\n",
       "      <td>225</td>\n",
       "      <td>1765</td>\n",
       "    </tr>\n",
       "    <tr>\n",
       "      <th>2</th>\n",
       "      <td>B02764</td>\n",
       "      <td>1/1/2015</td>\n",
       "      <td>3427</td>\n",
       "      <td>29421</td>\n",
       "    </tr>\n",
       "    <tr>\n",
       "      <th>3</th>\n",
       "      <td>B02682</td>\n",
       "      <td>1/1/2015</td>\n",
       "      <td>945</td>\n",
       "      <td>7679</td>\n",
       "    </tr>\n",
       "    <tr>\n",
       "      <th>4</th>\n",
       "      <td>B02617</td>\n",
       "      <td>1/1/2015</td>\n",
       "      <td>1228</td>\n",
       "      <td>9537</td>\n",
       "    </tr>\n",
       "  </tbody>\n",
       "</table>\n",
       "</div>"
      ],
      "text/plain": [
       "  dispatching_base_number      date  active_vehicles  trips\n",
       "0                  B02512  1/1/2015              190   1132\n",
       "1                  B02765  1/1/2015              225   1765\n",
       "2                  B02764  1/1/2015             3427  29421\n",
       "3                  B02682  1/1/2015              945   7679\n",
       "4                  B02617  1/1/2015             1228   9537"
      ]
     },
     "execution_count": 29,
     "metadata": {},
     "output_type": "execute_result"
    }
   ],
   "source": [
    "uber_foil.head()"
   ]
  },
  {
   "cell_type": "code",
   "execution_count": 30,
   "id": "cd6d3e02",
   "metadata": {},
   "outputs": [
    {
     "data": {
      "text/html": [
       "        <script type=\"text/javascript\">\n",
       "        window.PlotlyConfig = {MathJaxConfig: 'local'};\n",
       "        if (window.MathJax && window.MathJax.Hub && window.MathJax.Hub.Config) {window.MathJax.Hub.Config({SVG: {font: \"STIX-Web\"}});}\n",
       "        if (typeof require !== 'undefined') {\n",
       "        require.undef(\"plotly\");\n",
       "        requirejs.config({\n",
       "            paths: {\n",
       "                'plotly': ['https://cdn.plot.ly/plotly-2.18.2.min']\n",
       "            }\n",
       "        });\n",
       "        require(['plotly'], function(Plotly) {\n",
       "            window._Plotly = Plotly;\n",
       "        });\n",
       "        }\n",
       "        </script>\n",
       "        "
      ]
     },
     "metadata": {},
     "output_type": "display_data"
    }
   ],
   "source": [
    "import chart_studio.plotly as py\n",
    "import plotly.graph_objs as go\n",
    "import plotly.express as px\n",
    "from plotly.offline import download_plotlyjs,plot,iplot,init_notebook_mode\n",
    "init_notebook_mode(connected=True)"
   ]
  },
  {
   "cell_type": "code",
   "execution_count": 33,
   "id": "a24e6aaa",
   "metadata": {},
   "outputs": [
    {
     "data": {
      "application/vnd.plotly.v1+json": {
       "config": {
        "plotlyServerURL": "https://plot.ly"
       },
       "data": [
        {
         "alignmentgroup": "True",
         "hovertemplate": "dispatching_base_number=%{x}<br>active_vehicles=%{y}<extra></extra>",
         "legendgroup": "B02512",
         "marker": {
          "color": "#636efa"
         },
         "name": "B02512",
         "notched": false,
         "offsetgroup": "B02512",
         "orientation": "v",
         "showlegend": true,
         "type": "box",
         "x": [
          "B02512",
          "B02512",
          "B02512",
          "B02512",
          "B02512",
          "B02512",
          "B02512",
          "B02512",
          "B02512",
          "B02512",
          "B02512",
          "B02512",
          "B02512",
          "B02512",
          "B02512",
          "B02512",
          "B02512",
          "B02512",
          "B02512",
          "B02512",
          "B02512",
          "B02512",
          "B02512",
          "B02512",
          "B02512",
          "B02512",
          "B02512",
          "B02512",
          "B02512",
          "B02512",
          "B02512",
          "B02512",
          "B02512",
          "B02512",
          "B02512",
          "B02512",
          "B02512",
          "B02512",
          "B02512",
          "B02512",
          "B02512",
          "B02512",
          "B02512",
          "B02512",
          "B02512",
          "B02512",
          "B02512",
          "B02512",
          "B02512",
          "B02512",
          "B02512",
          "B02512",
          "B02512",
          "B02512",
          "B02512",
          "B02512",
          "B02512",
          "B02512",
          "B02512"
         ],
         "x0": " ",
         "xaxis": "x",
         "y": [
          190,
          175,
          173,
          147,
          194,
          218,
          217,
          238,
          224,
          206,
          162,
          217,
          234,
          233,
          237,
          234,
          201,
          177,
          168,
          221,
          242,
          246,
          246,
          211,
          183,
          197,
          112,
          235,
          250,
          256,
          225,
          193,
          227,
          257,
          244,
          264,
          261,
          211,
          176,
          228,
          233,
          255,
          269,
          281,
          236,
          210,
          207,
          241,
          228,
          250,
          272,
          238,
          199,
          238,
          247,
          246,
          243,
          272,
          230
         ],
         "y0": " ",
         "yaxis": "y"
        },
        {
         "alignmentgroup": "True",
         "hovertemplate": "dispatching_base_number=%{x}<br>active_vehicles=%{y}<extra></extra>",
         "legendgroup": "B02765",
         "marker": {
          "color": "#EF553B"
         },
         "name": "B02765",
         "notched": false,
         "offsetgroup": "B02765",
         "orientation": "v",
         "showlegend": true,
         "type": "box",
         "x": [
          "B02765",
          "B02765",
          "B02765",
          "B02765",
          "B02765",
          "B02765",
          "B02765",
          "B02765",
          "B02765",
          "B02765",
          "B02765",
          "B02765",
          "B02765",
          "B02765",
          "B02765",
          "B02765",
          "B02765",
          "B02765",
          "B02765",
          "B02765",
          "B02765",
          "B02765",
          "B02765",
          "B02765",
          "B02765",
          "B02765",
          "B02765",
          "B02765",
          "B02765",
          "B02765",
          "B02765",
          "B02765",
          "B02765",
          "B02765",
          "B02765",
          "B02765",
          "B02765",
          "B02765",
          "B02765",
          "B02765",
          "B02765",
          "B02765",
          "B02765",
          "B02765",
          "B02765",
          "B02765",
          "B02765",
          "B02765",
          "B02765",
          "B02765",
          "B02765",
          "B02765",
          "B02765",
          "B02765",
          "B02765",
          "B02765",
          "B02765",
          "B02765",
          "B02765"
         ],
         "x0": " ",
         "xaxis": "x",
         "y": [
          225,
          196,
          201,
          183,
          227,
          234,
          248,
          262,
          280,
          245,
          220,
          279,
          258,
          271,
          270,
          290,
          252,
          248,
          238,
          272,
          296,
          295,
          299,
          245,
          226,
          230,
          135,
          286,
          295,
          322,
          309,
          289,
          275,
          299,
          309,
          355,
          385,
          345,
          313,
          388,
          422,
          450,
          536,
          599,
          583,
          521,
          508,
          578,
          586,
          663,
          736,
          685,
          566,
          665,
          698,
          706,
          745,
          786,
          747
         ],
         "y0": " ",
         "yaxis": "y"
        },
        {
         "alignmentgroup": "True",
         "hovertemplate": "dispatching_base_number=%{x}<br>active_vehicles=%{y}<extra></extra>",
         "legendgroup": "B02764",
         "marker": {
          "color": "#00cc96"
         },
         "name": "B02764",
         "notched": false,
         "offsetgroup": "B02764",
         "orientation": "v",
         "showlegend": true,
         "type": "box",
         "x": [
          "B02764",
          "B02764",
          "B02764",
          "B02764",
          "B02764",
          "B02764",
          "B02764",
          "B02764",
          "B02764",
          "B02764",
          "B02764",
          "B02764",
          "B02764",
          "B02764",
          "B02764",
          "B02764",
          "B02764",
          "B02764",
          "B02764",
          "B02764",
          "B02764",
          "B02764",
          "B02764",
          "B02764",
          "B02764",
          "B02764",
          "B02764",
          "B02764",
          "B02764",
          "B02764",
          "B02764",
          "B02764",
          "B02764",
          "B02764",
          "B02764",
          "B02764",
          "B02764",
          "B02764",
          "B02764",
          "B02764",
          "B02764",
          "B02764",
          "B02764",
          "B02764",
          "B02764",
          "B02764",
          "B02764",
          "B02764",
          "B02764",
          "B02764",
          "B02764",
          "B02764",
          "B02764",
          "B02764",
          "B02764",
          "B02764",
          "B02764",
          "B02764",
          "B02764"
         ],
         "x0": " ",
         "xaxis": "x",
         "y": [
          3427,
          3147,
          3215,
          2862,
          3387,
          3473,
          3603,
          3831,
          3820,
          3558,
          3186,
          3499,
          3658,
          3736,
          3840,
          3975,
          3657,
          3290,
          2958,
          3654,
          3718,
          3889,
          4040,
          3652,
          3300,
          3012,
          1619,
          3692,
          3959,
          4124,
          3947,
          3740,
          3270,
          3674,
          3856,
          4093,
          4170,
          3849,
          3422,
          3543,
          3700,
          3849,
          4137,
          4395,
          4129,
          3651,
          3524,
          3826,
          3842,
          4110,
          4384,
          3981,
          3478,
          3734,
          3965,
          3934,
          4101,
          4253,
          3952
         ],
         "y0": " ",
         "yaxis": "y"
        },
        {
         "alignmentgroup": "True",
         "hovertemplate": "dispatching_base_number=%{x}<br>active_vehicles=%{y}<extra></extra>",
         "legendgroup": "B02682",
         "marker": {
          "color": "#ab63fa"
         },
         "name": "B02682",
         "notched": false,
         "offsetgroup": "B02682",
         "orientation": "v",
         "showlegend": true,
         "type": "box",
         "x": [
          "B02682",
          "B02682",
          "B02682",
          "B02682",
          "B02682",
          "B02682",
          "B02682",
          "B02682",
          "B02682",
          "B02682",
          "B02682",
          "B02682",
          "B02682",
          "B02682",
          "B02682",
          "B02682",
          "B02682",
          "B02682",
          "B02682",
          "B02682",
          "B02682",
          "B02682",
          "B02682",
          "B02682",
          "B02682",
          "B02682",
          "B02682",
          "B02682",
          "B02682",
          "B02682",
          "B02682",
          "B02682",
          "B02682",
          "B02682",
          "B02682",
          "B02682",
          "B02682",
          "B02682",
          "B02682",
          "B02682",
          "B02682",
          "B02682",
          "B02682",
          "B02682",
          "B02682",
          "B02682",
          "B02682",
          "B02682",
          "B02682",
          "B02682",
          "B02682",
          "B02682",
          "B02682",
          "B02682",
          "B02682",
          "B02682",
          "B02682",
          "B02682",
          "B02682"
         ],
         "x0": " ",
         "xaxis": "x",
         "y": [
          945,
          890,
          915,
          812,
          951,
          1022,
          1039,
          1135,
          1140,
          1057,
          943,
          1082,
          1092,
          1174,
          1208,
          1250,
          1137,
          1056,
          883,
          1151,
          1228,
          1295,
          1330,
          1223,
          1046,
          1084,
          600,
          1235,
          1316,
          1384,
          1321,
          1214,
          1152,
          1269,
          1311,
          1418,
          1414,
          1300,
          1136,
          1241,
          1281,
          1396,
          1468,
          1523,
          1428,
          1261,
          1164,
          1314,
          1314,
          1428,
          1497,
          1374,
          1220,
          1262,
          1346,
          1395,
          1465,
          1510,
          1386
         ],
         "y0": " ",
         "yaxis": "y"
        },
        {
         "alignmentgroup": "True",
         "hovertemplate": "dispatching_base_number=%{x}<br>active_vehicles=%{y}<extra></extra>",
         "legendgroup": "B02617",
         "marker": {
          "color": "#FFA15A"
         },
         "name": "B02617",
         "notched": false,
         "offsetgroup": "B02617",
         "orientation": "v",
         "showlegend": true,
         "type": "box",
         "x": [
          "B02617",
          "B02617",
          "B02617",
          "B02617",
          "B02617",
          "B02617",
          "B02617",
          "B02617",
          "B02617",
          "B02617",
          "B02617",
          "B02617",
          "B02617",
          "B02617",
          "B02617",
          "B02617",
          "B02617",
          "B02617",
          "B02617",
          "B02617",
          "B02617",
          "B02617",
          "B02617",
          "B02617",
          "B02617",
          "B02617",
          "B02617",
          "B02617",
          "B02617",
          "B02617",
          "B02617",
          "B02617",
          "B02617",
          "B02617",
          "B02617",
          "B02617",
          "B02617",
          "B02617",
          "B02617",
          "B02617",
          "B02617",
          "B02617",
          "B02617",
          "B02617",
          "B02617",
          "B02617",
          "B02617",
          "B02617",
          "B02617",
          "B02617",
          "B02617",
          "B02617",
          "B02617",
          "B02617",
          "B02617",
          "B02617",
          "B02617",
          "B02617",
          "B02617"
         ],
         "x0": " ",
         "xaxis": "x",
         "y": [
          1228,
          1137,
          1188,
          1088,
          1218,
          1336,
          1363,
          1463,
          1455,
          1331,
          1228,
          1323,
          1342,
          1405,
          1457,
          1445,
          1306,
          1223,
          992,
          1350,
          1429,
          1471,
          1482,
          1367,
          1203,
          1150,
          596,
          1356,
          1474,
          1501,
          1394,
          1355,
          1217,
          1350,
          1393,
          1524,
          1526,
          1383,
          1256,
          1312,
          1364,
          1450,
          1532,
          1590,
          1486,
          1293,
          1214,
          1378,
          1394,
          1452,
          1574,
          1443,
          1248,
          1332,
          1456,
          1473,
          1539,
          1551,
          1372
         ],
         "y0": " ",
         "yaxis": "y"
        },
        {
         "alignmentgroup": "True",
         "hovertemplate": "dispatching_base_number=%{x}<br>active_vehicles=%{y}<extra></extra>",
         "legendgroup": "B02598",
         "marker": {
          "color": "#19d3f3"
         },
         "name": "B02598",
         "notched": false,
         "offsetgroup": "B02598",
         "orientation": "v",
         "showlegend": true,
         "type": "box",
         "x": [
          "B02598",
          "B02598",
          "B02598",
          "B02598",
          "B02598",
          "B02598",
          "B02598",
          "B02598",
          "B02598",
          "B02598",
          "B02598",
          "B02598",
          "B02598",
          "B02598",
          "B02598",
          "B02598",
          "B02598",
          "B02598",
          "B02598",
          "B02598",
          "B02598",
          "B02598",
          "B02598",
          "B02598",
          "B02598",
          "B02598",
          "B02598",
          "B02598",
          "B02598",
          "B02598",
          "B02598",
          "B02598",
          "B02598",
          "B02598",
          "B02598",
          "B02598",
          "B02598",
          "B02598",
          "B02598",
          "B02598",
          "B02598",
          "B02598",
          "B02598",
          "B02598",
          "B02598",
          "B02598",
          "B02598",
          "B02598",
          "B02598",
          "B02598",
          "B02598",
          "B02598",
          "B02598",
          "B02598",
          "B02598",
          "B02598",
          "B02598",
          "B02598",
          "B02598"
         ],
         "x0": " ",
         "xaxis": "x",
         "y": [
          870,
          785,
          818,
          746,
          907,
          933,
          974,
          1070,
          1070,
          949,
          832,
          964,
          975,
          1030,
          1068,
          1079,
          974,
          869,
          706,
          944,
          1035,
          1071,
          1093,
          945,
          829,
          860,
          434,
          1011,
          1082,
          1106,
          1027,
          961,
          939,
          991,
          1072,
          1179,
          1181,
          1031,
          923,
          976,
          1029,
          1115,
          1181,
          1216,
          1111,
          1003,
          934,
          1066,
          1078,
          1127,
          1186,
          1044,
          909,
          966,
          1061,
          1076,
          1134,
          1114,
          994
         ],
         "y0": " ",
         "yaxis": "y"
        }
       ],
       "layout": {
        "boxmode": "overlay",
        "legend": {
         "title": {
          "text": "dispatching_base_number"
         },
         "tracegroupgap": 0
        },
        "margin": {
         "t": 60
        },
        "template": {
         "data": {
          "bar": [
           {
            "error_x": {
             "color": "#2a3f5f"
            },
            "error_y": {
             "color": "#2a3f5f"
            },
            "marker": {
             "line": {
              "color": "#E5ECF6",
              "width": 0.5
             },
             "pattern": {
              "fillmode": "overlay",
              "size": 10,
              "solidity": 0.2
             }
            },
            "type": "bar"
           }
          ],
          "barpolar": [
           {
            "marker": {
             "line": {
              "color": "#E5ECF6",
              "width": 0.5
             },
             "pattern": {
              "fillmode": "overlay",
              "size": 10,
              "solidity": 0.2
             }
            },
            "type": "barpolar"
           }
          ],
          "carpet": [
           {
            "aaxis": {
             "endlinecolor": "#2a3f5f",
             "gridcolor": "white",
             "linecolor": "white",
             "minorgridcolor": "white",
             "startlinecolor": "#2a3f5f"
            },
            "baxis": {
             "endlinecolor": "#2a3f5f",
             "gridcolor": "white",
             "linecolor": "white",
             "minorgridcolor": "white",
             "startlinecolor": "#2a3f5f"
            },
            "type": "carpet"
           }
          ],
          "choropleth": [
           {
            "colorbar": {
             "outlinewidth": 0,
             "ticks": ""
            },
            "type": "choropleth"
           }
          ],
          "contour": [
           {
            "colorbar": {
             "outlinewidth": 0,
             "ticks": ""
            },
            "colorscale": [
             [
              0,
              "#0d0887"
             ],
             [
              0.1111111111111111,
              "#46039f"
             ],
             [
              0.2222222222222222,
              "#7201a8"
             ],
             [
              0.3333333333333333,
              "#9c179e"
             ],
             [
              0.4444444444444444,
              "#bd3786"
             ],
             [
              0.5555555555555556,
              "#d8576b"
             ],
             [
              0.6666666666666666,
              "#ed7953"
             ],
             [
              0.7777777777777778,
              "#fb9f3a"
             ],
             [
              0.8888888888888888,
              "#fdca26"
             ],
             [
              1,
              "#f0f921"
             ]
            ],
            "type": "contour"
           }
          ],
          "contourcarpet": [
           {
            "colorbar": {
             "outlinewidth": 0,
             "ticks": ""
            },
            "type": "contourcarpet"
           }
          ],
          "heatmap": [
           {
            "colorbar": {
             "outlinewidth": 0,
             "ticks": ""
            },
            "colorscale": [
             [
              0,
              "#0d0887"
             ],
             [
              0.1111111111111111,
              "#46039f"
             ],
             [
              0.2222222222222222,
              "#7201a8"
             ],
             [
              0.3333333333333333,
              "#9c179e"
             ],
             [
              0.4444444444444444,
              "#bd3786"
             ],
             [
              0.5555555555555556,
              "#d8576b"
             ],
             [
              0.6666666666666666,
              "#ed7953"
             ],
             [
              0.7777777777777778,
              "#fb9f3a"
             ],
             [
              0.8888888888888888,
              "#fdca26"
             ],
             [
              1,
              "#f0f921"
             ]
            ],
            "type": "heatmap"
           }
          ],
          "heatmapgl": [
           {
            "colorbar": {
             "outlinewidth": 0,
             "ticks": ""
            },
            "colorscale": [
             [
              0,
              "#0d0887"
             ],
             [
              0.1111111111111111,
              "#46039f"
             ],
             [
              0.2222222222222222,
              "#7201a8"
             ],
             [
              0.3333333333333333,
              "#9c179e"
             ],
             [
              0.4444444444444444,
              "#bd3786"
             ],
             [
              0.5555555555555556,
              "#d8576b"
             ],
             [
              0.6666666666666666,
              "#ed7953"
             ],
             [
              0.7777777777777778,
              "#fb9f3a"
             ],
             [
              0.8888888888888888,
              "#fdca26"
             ],
             [
              1,
              "#f0f921"
             ]
            ],
            "type": "heatmapgl"
           }
          ],
          "histogram": [
           {
            "marker": {
             "pattern": {
              "fillmode": "overlay",
              "size": 10,
              "solidity": 0.2
             }
            },
            "type": "histogram"
           }
          ],
          "histogram2d": [
           {
            "colorbar": {
             "outlinewidth": 0,
             "ticks": ""
            },
            "colorscale": [
             [
              0,
              "#0d0887"
             ],
             [
              0.1111111111111111,
              "#46039f"
             ],
             [
              0.2222222222222222,
              "#7201a8"
             ],
             [
              0.3333333333333333,
              "#9c179e"
             ],
             [
              0.4444444444444444,
              "#bd3786"
             ],
             [
              0.5555555555555556,
              "#d8576b"
             ],
             [
              0.6666666666666666,
              "#ed7953"
             ],
             [
              0.7777777777777778,
              "#fb9f3a"
             ],
             [
              0.8888888888888888,
              "#fdca26"
             ],
             [
              1,
              "#f0f921"
             ]
            ],
            "type": "histogram2d"
           }
          ],
          "histogram2dcontour": [
           {
            "colorbar": {
             "outlinewidth": 0,
             "ticks": ""
            },
            "colorscale": [
             [
              0,
              "#0d0887"
             ],
             [
              0.1111111111111111,
              "#46039f"
             ],
             [
              0.2222222222222222,
              "#7201a8"
             ],
             [
              0.3333333333333333,
              "#9c179e"
             ],
             [
              0.4444444444444444,
              "#bd3786"
             ],
             [
              0.5555555555555556,
              "#d8576b"
             ],
             [
              0.6666666666666666,
              "#ed7953"
             ],
             [
              0.7777777777777778,
              "#fb9f3a"
             ],
             [
              0.8888888888888888,
              "#fdca26"
             ],
             [
              1,
              "#f0f921"
             ]
            ],
            "type": "histogram2dcontour"
           }
          ],
          "mesh3d": [
           {
            "colorbar": {
             "outlinewidth": 0,
             "ticks": ""
            },
            "type": "mesh3d"
           }
          ],
          "parcoords": [
           {
            "line": {
             "colorbar": {
              "outlinewidth": 0,
              "ticks": ""
             }
            },
            "type": "parcoords"
           }
          ],
          "pie": [
           {
            "automargin": true,
            "type": "pie"
           }
          ],
          "scatter": [
           {
            "fillpattern": {
             "fillmode": "overlay",
             "size": 10,
             "solidity": 0.2
            },
            "type": "scatter"
           }
          ],
          "scatter3d": [
           {
            "line": {
             "colorbar": {
              "outlinewidth": 0,
              "ticks": ""
             }
            },
            "marker": {
             "colorbar": {
              "outlinewidth": 0,
              "ticks": ""
             }
            },
            "type": "scatter3d"
           }
          ],
          "scattercarpet": [
           {
            "marker": {
             "colorbar": {
              "outlinewidth": 0,
              "ticks": ""
             }
            },
            "type": "scattercarpet"
           }
          ],
          "scattergeo": [
           {
            "marker": {
             "colorbar": {
              "outlinewidth": 0,
              "ticks": ""
             }
            },
            "type": "scattergeo"
           }
          ],
          "scattergl": [
           {
            "marker": {
             "colorbar": {
              "outlinewidth": 0,
              "ticks": ""
             }
            },
            "type": "scattergl"
           }
          ],
          "scattermapbox": [
           {
            "marker": {
             "colorbar": {
              "outlinewidth": 0,
              "ticks": ""
             }
            },
            "type": "scattermapbox"
           }
          ],
          "scatterpolar": [
           {
            "marker": {
             "colorbar": {
              "outlinewidth": 0,
              "ticks": ""
             }
            },
            "type": "scatterpolar"
           }
          ],
          "scatterpolargl": [
           {
            "marker": {
             "colorbar": {
              "outlinewidth": 0,
              "ticks": ""
             }
            },
            "type": "scatterpolargl"
           }
          ],
          "scatterternary": [
           {
            "marker": {
             "colorbar": {
              "outlinewidth": 0,
              "ticks": ""
             }
            },
            "type": "scatterternary"
           }
          ],
          "surface": [
           {
            "colorbar": {
             "outlinewidth": 0,
             "ticks": ""
            },
            "colorscale": [
             [
              0,
              "#0d0887"
             ],
             [
              0.1111111111111111,
              "#46039f"
             ],
             [
              0.2222222222222222,
              "#7201a8"
             ],
             [
              0.3333333333333333,
              "#9c179e"
             ],
             [
              0.4444444444444444,
              "#bd3786"
             ],
             [
              0.5555555555555556,
              "#d8576b"
             ],
             [
              0.6666666666666666,
              "#ed7953"
             ],
             [
              0.7777777777777778,
              "#fb9f3a"
             ],
             [
              0.8888888888888888,
              "#fdca26"
             ],
             [
              1,
              "#f0f921"
             ]
            ],
            "type": "surface"
           }
          ],
          "table": [
           {
            "cells": {
             "fill": {
              "color": "#EBF0F8"
             },
             "line": {
              "color": "white"
             }
            },
            "header": {
             "fill": {
              "color": "#C8D4E3"
             },
             "line": {
              "color": "white"
             }
            },
            "type": "table"
           }
          ]
         },
         "layout": {
          "annotationdefaults": {
           "arrowcolor": "#2a3f5f",
           "arrowhead": 0,
           "arrowwidth": 1
          },
          "autotypenumbers": "strict",
          "coloraxis": {
           "colorbar": {
            "outlinewidth": 0,
            "ticks": ""
           }
          },
          "colorscale": {
           "diverging": [
            [
             0,
             "#8e0152"
            ],
            [
             0.1,
             "#c51b7d"
            ],
            [
             0.2,
             "#de77ae"
            ],
            [
             0.3,
             "#f1b6da"
            ],
            [
             0.4,
             "#fde0ef"
            ],
            [
             0.5,
             "#f7f7f7"
            ],
            [
             0.6,
             "#e6f5d0"
            ],
            [
             0.7,
             "#b8e186"
            ],
            [
             0.8,
             "#7fbc41"
            ],
            [
             0.9,
             "#4d9221"
            ],
            [
             1,
             "#276419"
            ]
           ],
           "sequential": [
            [
             0,
             "#0d0887"
            ],
            [
             0.1111111111111111,
             "#46039f"
            ],
            [
             0.2222222222222222,
             "#7201a8"
            ],
            [
             0.3333333333333333,
             "#9c179e"
            ],
            [
             0.4444444444444444,
             "#bd3786"
            ],
            [
             0.5555555555555556,
             "#d8576b"
            ],
            [
             0.6666666666666666,
             "#ed7953"
            ],
            [
             0.7777777777777778,
             "#fb9f3a"
            ],
            [
             0.8888888888888888,
             "#fdca26"
            ],
            [
             1,
             "#f0f921"
            ]
           ],
           "sequentialminus": [
            [
             0,
             "#0d0887"
            ],
            [
             0.1111111111111111,
             "#46039f"
            ],
            [
             0.2222222222222222,
             "#7201a8"
            ],
            [
             0.3333333333333333,
             "#9c179e"
            ],
            [
             0.4444444444444444,
             "#bd3786"
            ],
            [
             0.5555555555555556,
             "#d8576b"
            ],
            [
             0.6666666666666666,
             "#ed7953"
            ],
            [
             0.7777777777777778,
             "#fb9f3a"
            ],
            [
             0.8888888888888888,
             "#fdca26"
            ],
            [
             1,
             "#f0f921"
            ]
           ]
          },
          "colorway": [
           "#636efa",
           "#EF553B",
           "#00cc96",
           "#ab63fa",
           "#FFA15A",
           "#19d3f3",
           "#FF6692",
           "#B6E880",
           "#FF97FF",
           "#FECB52"
          ],
          "font": {
           "color": "#2a3f5f"
          },
          "geo": {
           "bgcolor": "white",
           "lakecolor": "white",
           "landcolor": "#E5ECF6",
           "showlakes": true,
           "showland": true,
           "subunitcolor": "white"
          },
          "hoverlabel": {
           "align": "left"
          },
          "hovermode": "closest",
          "mapbox": {
           "style": "light"
          },
          "paper_bgcolor": "white",
          "plot_bgcolor": "#E5ECF6",
          "polar": {
           "angularaxis": {
            "gridcolor": "white",
            "linecolor": "white",
            "ticks": ""
           },
           "bgcolor": "#E5ECF6",
           "radialaxis": {
            "gridcolor": "white",
            "linecolor": "white",
            "ticks": ""
           }
          },
          "scene": {
           "xaxis": {
            "backgroundcolor": "#E5ECF6",
            "gridcolor": "white",
            "gridwidth": 2,
            "linecolor": "white",
            "showbackground": true,
            "ticks": "",
            "zerolinecolor": "white"
           },
           "yaxis": {
            "backgroundcolor": "#E5ECF6",
            "gridcolor": "white",
            "gridwidth": 2,
            "linecolor": "white",
            "showbackground": true,
            "ticks": "",
            "zerolinecolor": "white"
           },
           "zaxis": {
            "backgroundcolor": "#E5ECF6",
            "gridcolor": "white",
            "gridwidth": 2,
            "linecolor": "white",
            "showbackground": true,
            "ticks": "",
            "zerolinecolor": "white"
           }
          },
          "shapedefaults": {
           "line": {
            "color": "#2a3f5f"
           }
          },
          "ternary": {
           "aaxis": {
            "gridcolor": "white",
            "linecolor": "white",
            "ticks": ""
           },
           "baxis": {
            "gridcolor": "white",
            "linecolor": "white",
            "ticks": ""
           },
           "bgcolor": "#E5ECF6",
           "caxis": {
            "gridcolor": "white",
            "linecolor": "white",
            "ticks": ""
           }
          },
          "title": {
           "x": 0.05
          },
          "xaxis": {
           "automargin": true,
           "gridcolor": "white",
           "linecolor": "white",
           "ticks": "",
           "title": {
            "standoff": 15
           },
           "zerolinecolor": "white",
           "zerolinewidth": 2
          },
          "yaxis": {
           "automargin": true,
           "gridcolor": "white",
           "linecolor": "white",
           "ticks": "",
           "title": {
            "standoff": 15
           },
           "zerolinecolor": "white",
           "zerolinewidth": 2
          }
         }
        },
        "xaxis": {
         "anchor": "y",
         "categoryarray": [
          "B02512",
          "B02765",
          "B02764",
          "B02682",
          "B02617",
          "B02598"
         ],
         "categoryorder": "array",
         "domain": [
          0,
          1
         ],
         "title": {
          "text": "dispatching_base_number"
         }
        },
        "yaxis": {
         "anchor": "x",
         "domain": [
          0,
          1
         ],
         "title": {
          "text": "active_vehicles"
         }
        }
       }
      },
      "text/html": [
       "<div>                            <div id=\"04143c3b-572e-4e67-b3a2-666250d2dab0\" class=\"plotly-graph-div\" style=\"height:525px; width:100%;\"></div>            <script type=\"text/javascript\">                require([\"plotly\"], function(Plotly) {                    window.PLOTLYENV=window.PLOTLYENV || {};                                    if (document.getElementById(\"04143c3b-572e-4e67-b3a2-666250d2dab0\")) {                    Plotly.newPlot(                        \"04143c3b-572e-4e67-b3a2-666250d2dab0\",                        [{\"alignmentgroup\":\"True\",\"hovertemplate\":\"dispatching_base_number=%{x}<br>active_vehicles=%{y}<extra></extra>\",\"legendgroup\":\"B02512\",\"marker\":{\"color\":\"#636efa\"},\"name\":\"B02512\",\"notched\":false,\"offsetgroup\":\"B02512\",\"orientation\":\"v\",\"showlegend\":true,\"x\":[\"B02512\",\"B02512\",\"B02512\",\"B02512\",\"B02512\",\"B02512\",\"B02512\",\"B02512\",\"B02512\",\"B02512\",\"B02512\",\"B02512\",\"B02512\",\"B02512\",\"B02512\",\"B02512\",\"B02512\",\"B02512\",\"B02512\",\"B02512\",\"B02512\",\"B02512\",\"B02512\",\"B02512\",\"B02512\",\"B02512\",\"B02512\",\"B02512\",\"B02512\",\"B02512\",\"B02512\",\"B02512\",\"B02512\",\"B02512\",\"B02512\",\"B02512\",\"B02512\",\"B02512\",\"B02512\",\"B02512\",\"B02512\",\"B02512\",\"B02512\",\"B02512\",\"B02512\",\"B02512\",\"B02512\",\"B02512\",\"B02512\",\"B02512\",\"B02512\",\"B02512\",\"B02512\",\"B02512\",\"B02512\",\"B02512\",\"B02512\",\"B02512\",\"B02512\"],\"x0\":\" \",\"xaxis\":\"x\",\"y\":[190,175,173,147,194,218,217,238,224,206,162,217,234,233,237,234,201,177,168,221,242,246,246,211,183,197,112,235,250,256,225,193,227,257,244,264,261,211,176,228,233,255,269,281,236,210,207,241,228,250,272,238,199,238,247,246,243,272,230],\"y0\":\" \",\"yaxis\":\"y\",\"type\":\"box\"},{\"alignmentgroup\":\"True\",\"hovertemplate\":\"dispatching_base_number=%{x}<br>active_vehicles=%{y}<extra></extra>\",\"legendgroup\":\"B02765\",\"marker\":{\"color\":\"#EF553B\"},\"name\":\"B02765\",\"notched\":false,\"offsetgroup\":\"B02765\",\"orientation\":\"v\",\"showlegend\":true,\"x\":[\"B02765\",\"B02765\",\"B02765\",\"B02765\",\"B02765\",\"B02765\",\"B02765\",\"B02765\",\"B02765\",\"B02765\",\"B02765\",\"B02765\",\"B02765\",\"B02765\",\"B02765\",\"B02765\",\"B02765\",\"B02765\",\"B02765\",\"B02765\",\"B02765\",\"B02765\",\"B02765\",\"B02765\",\"B02765\",\"B02765\",\"B02765\",\"B02765\",\"B02765\",\"B02765\",\"B02765\",\"B02765\",\"B02765\",\"B02765\",\"B02765\",\"B02765\",\"B02765\",\"B02765\",\"B02765\",\"B02765\",\"B02765\",\"B02765\",\"B02765\",\"B02765\",\"B02765\",\"B02765\",\"B02765\",\"B02765\",\"B02765\",\"B02765\",\"B02765\",\"B02765\",\"B02765\",\"B02765\",\"B02765\",\"B02765\",\"B02765\",\"B02765\",\"B02765\"],\"x0\":\" \",\"xaxis\":\"x\",\"y\":[225,196,201,183,227,234,248,262,280,245,220,279,258,271,270,290,252,248,238,272,296,295,299,245,226,230,135,286,295,322,309,289,275,299,309,355,385,345,313,388,422,450,536,599,583,521,508,578,586,663,736,685,566,665,698,706,745,786,747],\"y0\":\" \",\"yaxis\":\"y\",\"type\":\"box\"},{\"alignmentgroup\":\"True\",\"hovertemplate\":\"dispatching_base_number=%{x}<br>active_vehicles=%{y}<extra></extra>\",\"legendgroup\":\"B02764\",\"marker\":{\"color\":\"#00cc96\"},\"name\":\"B02764\",\"notched\":false,\"offsetgroup\":\"B02764\",\"orientation\":\"v\",\"showlegend\":true,\"x\":[\"B02764\",\"B02764\",\"B02764\",\"B02764\",\"B02764\",\"B02764\",\"B02764\",\"B02764\",\"B02764\",\"B02764\",\"B02764\",\"B02764\",\"B02764\",\"B02764\",\"B02764\",\"B02764\",\"B02764\",\"B02764\",\"B02764\",\"B02764\",\"B02764\",\"B02764\",\"B02764\",\"B02764\",\"B02764\",\"B02764\",\"B02764\",\"B02764\",\"B02764\",\"B02764\",\"B02764\",\"B02764\",\"B02764\",\"B02764\",\"B02764\",\"B02764\",\"B02764\",\"B02764\",\"B02764\",\"B02764\",\"B02764\",\"B02764\",\"B02764\",\"B02764\",\"B02764\",\"B02764\",\"B02764\",\"B02764\",\"B02764\",\"B02764\",\"B02764\",\"B02764\",\"B02764\",\"B02764\",\"B02764\",\"B02764\",\"B02764\",\"B02764\",\"B02764\"],\"x0\":\" \",\"xaxis\":\"x\",\"y\":[3427,3147,3215,2862,3387,3473,3603,3831,3820,3558,3186,3499,3658,3736,3840,3975,3657,3290,2958,3654,3718,3889,4040,3652,3300,3012,1619,3692,3959,4124,3947,3740,3270,3674,3856,4093,4170,3849,3422,3543,3700,3849,4137,4395,4129,3651,3524,3826,3842,4110,4384,3981,3478,3734,3965,3934,4101,4253,3952],\"y0\":\" \",\"yaxis\":\"y\",\"type\":\"box\"},{\"alignmentgroup\":\"True\",\"hovertemplate\":\"dispatching_base_number=%{x}<br>active_vehicles=%{y}<extra></extra>\",\"legendgroup\":\"B02682\",\"marker\":{\"color\":\"#ab63fa\"},\"name\":\"B02682\",\"notched\":false,\"offsetgroup\":\"B02682\",\"orientation\":\"v\",\"showlegend\":true,\"x\":[\"B02682\",\"B02682\",\"B02682\",\"B02682\",\"B02682\",\"B02682\",\"B02682\",\"B02682\",\"B02682\",\"B02682\",\"B02682\",\"B02682\",\"B02682\",\"B02682\",\"B02682\",\"B02682\",\"B02682\",\"B02682\",\"B02682\",\"B02682\",\"B02682\",\"B02682\",\"B02682\",\"B02682\",\"B02682\",\"B02682\",\"B02682\",\"B02682\",\"B02682\",\"B02682\",\"B02682\",\"B02682\",\"B02682\",\"B02682\",\"B02682\",\"B02682\",\"B02682\",\"B02682\",\"B02682\",\"B02682\",\"B02682\",\"B02682\",\"B02682\",\"B02682\",\"B02682\",\"B02682\",\"B02682\",\"B02682\",\"B02682\",\"B02682\",\"B02682\",\"B02682\",\"B02682\",\"B02682\",\"B02682\",\"B02682\",\"B02682\",\"B02682\",\"B02682\"],\"x0\":\" \",\"xaxis\":\"x\",\"y\":[945,890,915,812,951,1022,1039,1135,1140,1057,943,1082,1092,1174,1208,1250,1137,1056,883,1151,1228,1295,1330,1223,1046,1084,600,1235,1316,1384,1321,1214,1152,1269,1311,1418,1414,1300,1136,1241,1281,1396,1468,1523,1428,1261,1164,1314,1314,1428,1497,1374,1220,1262,1346,1395,1465,1510,1386],\"y0\":\" \",\"yaxis\":\"y\",\"type\":\"box\"},{\"alignmentgroup\":\"True\",\"hovertemplate\":\"dispatching_base_number=%{x}<br>active_vehicles=%{y}<extra></extra>\",\"legendgroup\":\"B02617\",\"marker\":{\"color\":\"#FFA15A\"},\"name\":\"B02617\",\"notched\":false,\"offsetgroup\":\"B02617\",\"orientation\":\"v\",\"showlegend\":true,\"x\":[\"B02617\",\"B02617\",\"B02617\",\"B02617\",\"B02617\",\"B02617\",\"B02617\",\"B02617\",\"B02617\",\"B02617\",\"B02617\",\"B02617\",\"B02617\",\"B02617\",\"B02617\",\"B02617\",\"B02617\",\"B02617\",\"B02617\",\"B02617\",\"B02617\",\"B02617\",\"B02617\",\"B02617\",\"B02617\",\"B02617\",\"B02617\",\"B02617\",\"B02617\",\"B02617\",\"B02617\",\"B02617\",\"B02617\",\"B02617\",\"B02617\",\"B02617\",\"B02617\",\"B02617\",\"B02617\",\"B02617\",\"B02617\",\"B02617\",\"B02617\",\"B02617\",\"B02617\",\"B02617\",\"B02617\",\"B02617\",\"B02617\",\"B02617\",\"B02617\",\"B02617\",\"B02617\",\"B02617\",\"B02617\",\"B02617\",\"B02617\",\"B02617\",\"B02617\"],\"x0\":\" \",\"xaxis\":\"x\",\"y\":[1228,1137,1188,1088,1218,1336,1363,1463,1455,1331,1228,1323,1342,1405,1457,1445,1306,1223,992,1350,1429,1471,1482,1367,1203,1150,596,1356,1474,1501,1394,1355,1217,1350,1393,1524,1526,1383,1256,1312,1364,1450,1532,1590,1486,1293,1214,1378,1394,1452,1574,1443,1248,1332,1456,1473,1539,1551,1372],\"y0\":\" \",\"yaxis\":\"y\",\"type\":\"box\"},{\"alignmentgroup\":\"True\",\"hovertemplate\":\"dispatching_base_number=%{x}<br>active_vehicles=%{y}<extra></extra>\",\"legendgroup\":\"B02598\",\"marker\":{\"color\":\"#19d3f3\"},\"name\":\"B02598\",\"notched\":false,\"offsetgroup\":\"B02598\",\"orientation\":\"v\",\"showlegend\":true,\"x\":[\"B02598\",\"B02598\",\"B02598\",\"B02598\",\"B02598\",\"B02598\",\"B02598\",\"B02598\",\"B02598\",\"B02598\",\"B02598\",\"B02598\",\"B02598\",\"B02598\",\"B02598\",\"B02598\",\"B02598\",\"B02598\",\"B02598\",\"B02598\",\"B02598\",\"B02598\",\"B02598\",\"B02598\",\"B02598\",\"B02598\",\"B02598\",\"B02598\",\"B02598\",\"B02598\",\"B02598\",\"B02598\",\"B02598\",\"B02598\",\"B02598\",\"B02598\",\"B02598\",\"B02598\",\"B02598\",\"B02598\",\"B02598\",\"B02598\",\"B02598\",\"B02598\",\"B02598\",\"B02598\",\"B02598\",\"B02598\",\"B02598\",\"B02598\",\"B02598\",\"B02598\",\"B02598\",\"B02598\",\"B02598\",\"B02598\",\"B02598\",\"B02598\",\"B02598\"],\"x0\":\" \",\"xaxis\":\"x\",\"y\":[870,785,818,746,907,933,974,1070,1070,949,832,964,975,1030,1068,1079,974,869,706,944,1035,1071,1093,945,829,860,434,1011,1082,1106,1027,961,939,991,1072,1179,1181,1031,923,976,1029,1115,1181,1216,1111,1003,934,1066,1078,1127,1186,1044,909,966,1061,1076,1134,1114,994],\"y0\":\" \",\"yaxis\":\"y\",\"type\":\"box\"}],                        {\"template\":{\"data\":{\"histogram2dcontour\":[{\"type\":\"histogram2dcontour\",\"colorbar\":{\"outlinewidth\":0,\"ticks\":\"\"},\"colorscale\":[[0.0,\"#0d0887\"],[0.1111111111111111,\"#46039f\"],[0.2222222222222222,\"#7201a8\"],[0.3333333333333333,\"#9c179e\"],[0.4444444444444444,\"#bd3786\"],[0.5555555555555556,\"#d8576b\"],[0.6666666666666666,\"#ed7953\"],[0.7777777777777778,\"#fb9f3a\"],[0.8888888888888888,\"#fdca26\"],[1.0,\"#f0f921\"]]}],\"choropleth\":[{\"type\":\"choropleth\",\"colorbar\":{\"outlinewidth\":0,\"ticks\":\"\"}}],\"histogram2d\":[{\"type\":\"histogram2d\",\"colorbar\":{\"outlinewidth\":0,\"ticks\":\"\"},\"colorscale\":[[0.0,\"#0d0887\"],[0.1111111111111111,\"#46039f\"],[0.2222222222222222,\"#7201a8\"],[0.3333333333333333,\"#9c179e\"],[0.4444444444444444,\"#bd3786\"],[0.5555555555555556,\"#d8576b\"],[0.6666666666666666,\"#ed7953\"],[0.7777777777777778,\"#fb9f3a\"],[0.8888888888888888,\"#fdca26\"],[1.0,\"#f0f921\"]]}],\"heatmap\":[{\"type\":\"heatmap\",\"colorbar\":{\"outlinewidth\":0,\"ticks\":\"\"},\"colorscale\":[[0.0,\"#0d0887\"],[0.1111111111111111,\"#46039f\"],[0.2222222222222222,\"#7201a8\"],[0.3333333333333333,\"#9c179e\"],[0.4444444444444444,\"#bd3786\"],[0.5555555555555556,\"#d8576b\"],[0.6666666666666666,\"#ed7953\"],[0.7777777777777778,\"#fb9f3a\"],[0.8888888888888888,\"#fdca26\"],[1.0,\"#f0f921\"]]}],\"heatmapgl\":[{\"type\":\"heatmapgl\",\"colorbar\":{\"outlinewidth\":0,\"ticks\":\"\"},\"colorscale\":[[0.0,\"#0d0887\"],[0.1111111111111111,\"#46039f\"],[0.2222222222222222,\"#7201a8\"],[0.3333333333333333,\"#9c179e\"],[0.4444444444444444,\"#bd3786\"],[0.5555555555555556,\"#d8576b\"],[0.6666666666666666,\"#ed7953\"],[0.7777777777777778,\"#fb9f3a\"],[0.8888888888888888,\"#fdca26\"],[1.0,\"#f0f921\"]]}],\"contourcarpet\":[{\"type\":\"contourcarpet\",\"colorbar\":{\"outlinewidth\":0,\"ticks\":\"\"}}],\"contour\":[{\"type\":\"contour\",\"colorbar\":{\"outlinewidth\":0,\"ticks\":\"\"},\"colorscale\":[[0.0,\"#0d0887\"],[0.1111111111111111,\"#46039f\"],[0.2222222222222222,\"#7201a8\"],[0.3333333333333333,\"#9c179e\"],[0.4444444444444444,\"#bd3786\"],[0.5555555555555556,\"#d8576b\"],[0.6666666666666666,\"#ed7953\"],[0.7777777777777778,\"#fb9f3a\"],[0.8888888888888888,\"#fdca26\"],[1.0,\"#f0f921\"]]}],\"surface\":[{\"type\":\"surface\",\"colorbar\":{\"outlinewidth\":0,\"ticks\":\"\"},\"colorscale\":[[0.0,\"#0d0887\"],[0.1111111111111111,\"#46039f\"],[0.2222222222222222,\"#7201a8\"],[0.3333333333333333,\"#9c179e\"],[0.4444444444444444,\"#bd3786\"],[0.5555555555555556,\"#d8576b\"],[0.6666666666666666,\"#ed7953\"],[0.7777777777777778,\"#fb9f3a\"],[0.8888888888888888,\"#fdca26\"],[1.0,\"#f0f921\"]]}],\"mesh3d\":[{\"type\":\"mesh3d\",\"colorbar\":{\"outlinewidth\":0,\"ticks\":\"\"}}],\"scatter\":[{\"fillpattern\":{\"fillmode\":\"overlay\",\"size\":10,\"solidity\":0.2},\"type\":\"scatter\"}],\"parcoords\":[{\"type\":\"parcoords\",\"line\":{\"colorbar\":{\"outlinewidth\":0,\"ticks\":\"\"}}}],\"scatterpolargl\":[{\"type\":\"scatterpolargl\",\"marker\":{\"colorbar\":{\"outlinewidth\":0,\"ticks\":\"\"}}}],\"bar\":[{\"error_x\":{\"color\":\"#2a3f5f\"},\"error_y\":{\"color\":\"#2a3f5f\"},\"marker\":{\"line\":{\"color\":\"#E5ECF6\",\"width\":0.5},\"pattern\":{\"fillmode\":\"overlay\",\"size\":10,\"solidity\":0.2}},\"type\":\"bar\"}],\"scattergeo\":[{\"type\":\"scattergeo\",\"marker\":{\"colorbar\":{\"outlinewidth\":0,\"ticks\":\"\"}}}],\"scatterpolar\":[{\"type\":\"scatterpolar\",\"marker\":{\"colorbar\":{\"outlinewidth\":0,\"ticks\":\"\"}}}],\"histogram\":[{\"marker\":{\"pattern\":{\"fillmode\":\"overlay\",\"size\":10,\"solidity\":0.2}},\"type\":\"histogram\"}],\"scattergl\":[{\"type\":\"scattergl\",\"marker\":{\"colorbar\":{\"outlinewidth\":0,\"ticks\":\"\"}}}],\"scatter3d\":[{\"type\":\"scatter3d\",\"line\":{\"colorbar\":{\"outlinewidth\":0,\"ticks\":\"\"}},\"marker\":{\"colorbar\":{\"outlinewidth\":0,\"ticks\":\"\"}}}],\"scattermapbox\":[{\"type\":\"scattermapbox\",\"marker\":{\"colorbar\":{\"outlinewidth\":0,\"ticks\":\"\"}}}],\"scatterternary\":[{\"type\":\"scatterternary\",\"marker\":{\"colorbar\":{\"outlinewidth\":0,\"ticks\":\"\"}}}],\"scattercarpet\":[{\"type\":\"scattercarpet\",\"marker\":{\"colorbar\":{\"outlinewidth\":0,\"ticks\":\"\"}}}],\"carpet\":[{\"aaxis\":{\"endlinecolor\":\"#2a3f5f\",\"gridcolor\":\"white\",\"linecolor\":\"white\",\"minorgridcolor\":\"white\",\"startlinecolor\":\"#2a3f5f\"},\"baxis\":{\"endlinecolor\":\"#2a3f5f\",\"gridcolor\":\"white\",\"linecolor\":\"white\",\"minorgridcolor\":\"white\",\"startlinecolor\":\"#2a3f5f\"},\"type\":\"carpet\"}],\"table\":[{\"cells\":{\"fill\":{\"color\":\"#EBF0F8\"},\"line\":{\"color\":\"white\"}},\"header\":{\"fill\":{\"color\":\"#C8D4E3\"},\"line\":{\"color\":\"white\"}},\"type\":\"table\"}],\"barpolar\":[{\"marker\":{\"line\":{\"color\":\"#E5ECF6\",\"width\":0.5},\"pattern\":{\"fillmode\":\"overlay\",\"size\":10,\"solidity\":0.2}},\"type\":\"barpolar\"}],\"pie\":[{\"automargin\":true,\"type\":\"pie\"}]},\"layout\":{\"autotypenumbers\":\"strict\",\"colorway\":[\"#636efa\",\"#EF553B\",\"#00cc96\",\"#ab63fa\",\"#FFA15A\",\"#19d3f3\",\"#FF6692\",\"#B6E880\",\"#FF97FF\",\"#FECB52\"],\"font\":{\"color\":\"#2a3f5f\"},\"hovermode\":\"closest\",\"hoverlabel\":{\"align\":\"left\"},\"paper_bgcolor\":\"white\",\"plot_bgcolor\":\"#E5ECF6\",\"polar\":{\"bgcolor\":\"#E5ECF6\",\"angularaxis\":{\"gridcolor\":\"white\",\"linecolor\":\"white\",\"ticks\":\"\"},\"radialaxis\":{\"gridcolor\":\"white\",\"linecolor\":\"white\",\"ticks\":\"\"}},\"ternary\":{\"bgcolor\":\"#E5ECF6\",\"aaxis\":{\"gridcolor\":\"white\",\"linecolor\":\"white\",\"ticks\":\"\"},\"baxis\":{\"gridcolor\":\"white\",\"linecolor\":\"white\",\"ticks\":\"\"},\"caxis\":{\"gridcolor\":\"white\",\"linecolor\":\"white\",\"ticks\":\"\"}},\"coloraxis\":{\"colorbar\":{\"outlinewidth\":0,\"ticks\":\"\"}},\"colorscale\":{\"sequential\":[[0.0,\"#0d0887\"],[0.1111111111111111,\"#46039f\"],[0.2222222222222222,\"#7201a8\"],[0.3333333333333333,\"#9c179e\"],[0.4444444444444444,\"#bd3786\"],[0.5555555555555556,\"#d8576b\"],[0.6666666666666666,\"#ed7953\"],[0.7777777777777778,\"#fb9f3a\"],[0.8888888888888888,\"#fdca26\"],[1.0,\"#f0f921\"]],\"sequentialminus\":[[0.0,\"#0d0887\"],[0.1111111111111111,\"#46039f\"],[0.2222222222222222,\"#7201a8\"],[0.3333333333333333,\"#9c179e\"],[0.4444444444444444,\"#bd3786\"],[0.5555555555555556,\"#d8576b\"],[0.6666666666666666,\"#ed7953\"],[0.7777777777777778,\"#fb9f3a\"],[0.8888888888888888,\"#fdca26\"],[1.0,\"#f0f921\"]],\"diverging\":[[0,\"#8e0152\"],[0.1,\"#c51b7d\"],[0.2,\"#de77ae\"],[0.3,\"#f1b6da\"],[0.4,\"#fde0ef\"],[0.5,\"#f7f7f7\"],[0.6,\"#e6f5d0\"],[0.7,\"#b8e186\"],[0.8,\"#7fbc41\"],[0.9,\"#4d9221\"],[1,\"#276419\"]]},\"xaxis\":{\"gridcolor\":\"white\",\"linecolor\":\"white\",\"ticks\":\"\",\"title\":{\"standoff\":15},\"zerolinecolor\":\"white\",\"automargin\":true,\"zerolinewidth\":2},\"yaxis\":{\"gridcolor\":\"white\",\"linecolor\":\"white\",\"ticks\":\"\",\"title\":{\"standoff\":15},\"zerolinecolor\":\"white\",\"automargin\":true,\"zerolinewidth\":2},\"scene\":{\"xaxis\":{\"backgroundcolor\":\"#E5ECF6\",\"gridcolor\":\"white\",\"linecolor\":\"white\",\"showbackground\":true,\"ticks\":\"\",\"zerolinecolor\":\"white\",\"gridwidth\":2},\"yaxis\":{\"backgroundcolor\":\"#E5ECF6\",\"gridcolor\":\"white\",\"linecolor\":\"white\",\"showbackground\":true,\"ticks\":\"\",\"zerolinecolor\":\"white\",\"gridwidth\":2},\"zaxis\":{\"backgroundcolor\":\"#E5ECF6\",\"gridcolor\":\"white\",\"linecolor\":\"white\",\"showbackground\":true,\"ticks\":\"\",\"zerolinecolor\":\"white\",\"gridwidth\":2}},\"shapedefaults\":{\"line\":{\"color\":\"#2a3f5f\"}},\"annotationdefaults\":{\"arrowcolor\":\"#2a3f5f\",\"arrowhead\":0,\"arrowwidth\":1},\"geo\":{\"bgcolor\":\"white\",\"landcolor\":\"#E5ECF6\",\"subunitcolor\":\"white\",\"showland\":true,\"showlakes\":true,\"lakecolor\":\"white\"},\"title\":{\"x\":0.05},\"mapbox\":{\"style\":\"light\"}}},\"xaxis\":{\"anchor\":\"y\",\"domain\":[0.0,1.0],\"title\":{\"text\":\"dispatching_base_number\"},\"categoryorder\":\"array\",\"categoryarray\":[\"B02512\",\"B02765\",\"B02764\",\"B02682\",\"B02617\",\"B02598\"]},\"yaxis\":{\"anchor\":\"x\",\"domain\":[0.0,1.0],\"title\":{\"text\":\"active_vehicles\"}},\"legend\":{\"title\":{\"text\":\"dispatching_base_number\"},\"tracegroupgap\":0},\"margin\":{\"t\":60},\"boxmode\":\"overlay\"},                        {\"responsive\": true}                    ).then(function(){\n",
       "                            \n",
       "var gd = document.getElementById('04143c3b-572e-4e67-b3a2-666250d2dab0');\n",
       "var x = new MutationObserver(function (mutations, observer) {{\n",
       "        var display = window.getComputedStyle(gd).display;\n",
       "        if (!display || display === 'none') {{\n",
       "            console.log([gd, 'removed!']);\n",
       "            Plotly.purge(gd);\n",
       "            observer.disconnect();\n",
       "        }}\n",
       "}});\n",
       "\n",
       "// Listen for the removal of the full notebook cells\n",
       "var notebookContainer = gd.closest('#notebook-container');\n",
       "if (notebookContainer) {{\n",
       "    x.observe(notebookContainer, {childList: true});\n",
       "}}\n",
       "\n",
       "// Listen for the clearing of the current output cell\n",
       "var outputEl = gd.closest('.output');\n",
       "if (outputEl) {{\n",
       "    x.observe(outputEl, {childList: true});\n",
       "}}\n",
       "\n",
       "                        })                };                });            </script>        </div>"
      ]
     },
     "metadata": {},
     "output_type": "display_data"
    }
   ],
   "source": [
    "px.box(x='dispatching_base_number',y='active_vehicles',color='dispatching_base_number',data_frame=uber_foil)"
   ]
  },
  {
   "cell_type": "code",
   "execution_count": 36,
   "id": "485c976d",
   "metadata": {},
   "outputs": [
    {
     "data": {
      "application/vnd.plotly.v1+json": {
       "config": {
        "plotlyServerURL": "https://plot.ly"
       },
       "data": [
        {
         "alignmentgroup": "True",
         "box": {
          "visible": false
         },
         "hovertemplate": "dispatching_base_number=%{x}<br>active_vehicles=%{y}<extra></extra>",
         "legendgroup": "B02512",
         "marker": {
          "color": "#636efa"
         },
         "name": "B02512",
         "offsetgroup": "B02512",
         "orientation": "v",
         "scalegroup": "True",
         "showlegend": true,
         "type": "violin",
         "x": [
          "B02512",
          "B02512",
          "B02512",
          "B02512",
          "B02512",
          "B02512",
          "B02512",
          "B02512",
          "B02512",
          "B02512",
          "B02512",
          "B02512",
          "B02512",
          "B02512",
          "B02512",
          "B02512",
          "B02512",
          "B02512",
          "B02512",
          "B02512",
          "B02512",
          "B02512",
          "B02512",
          "B02512",
          "B02512",
          "B02512",
          "B02512",
          "B02512",
          "B02512",
          "B02512",
          "B02512",
          "B02512",
          "B02512",
          "B02512",
          "B02512",
          "B02512",
          "B02512",
          "B02512",
          "B02512",
          "B02512",
          "B02512",
          "B02512",
          "B02512",
          "B02512",
          "B02512",
          "B02512",
          "B02512",
          "B02512",
          "B02512",
          "B02512",
          "B02512",
          "B02512",
          "B02512",
          "B02512",
          "B02512",
          "B02512",
          "B02512",
          "B02512",
          "B02512"
         ],
         "x0": " ",
         "xaxis": "x",
         "y": [
          190,
          175,
          173,
          147,
          194,
          218,
          217,
          238,
          224,
          206,
          162,
          217,
          234,
          233,
          237,
          234,
          201,
          177,
          168,
          221,
          242,
          246,
          246,
          211,
          183,
          197,
          112,
          235,
          250,
          256,
          225,
          193,
          227,
          257,
          244,
          264,
          261,
          211,
          176,
          228,
          233,
          255,
          269,
          281,
          236,
          210,
          207,
          241,
          228,
          250,
          272,
          238,
          199,
          238,
          247,
          246,
          243,
          272,
          230
         ],
         "y0": " ",
         "yaxis": "y"
        },
        {
         "alignmentgroup": "True",
         "box": {
          "visible": false
         },
         "hovertemplate": "dispatching_base_number=%{x}<br>active_vehicles=%{y}<extra></extra>",
         "legendgroup": "B02765",
         "marker": {
          "color": "#EF553B"
         },
         "name": "B02765",
         "offsetgroup": "B02765",
         "orientation": "v",
         "scalegroup": "True",
         "showlegend": true,
         "type": "violin",
         "x": [
          "B02765",
          "B02765",
          "B02765",
          "B02765",
          "B02765",
          "B02765",
          "B02765",
          "B02765",
          "B02765",
          "B02765",
          "B02765",
          "B02765",
          "B02765",
          "B02765",
          "B02765",
          "B02765",
          "B02765",
          "B02765",
          "B02765",
          "B02765",
          "B02765",
          "B02765",
          "B02765",
          "B02765",
          "B02765",
          "B02765",
          "B02765",
          "B02765",
          "B02765",
          "B02765",
          "B02765",
          "B02765",
          "B02765",
          "B02765",
          "B02765",
          "B02765",
          "B02765",
          "B02765",
          "B02765",
          "B02765",
          "B02765",
          "B02765",
          "B02765",
          "B02765",
          "B02765",
          "B02765",
          "B02765",
          "B02765",
          "B02765",
          "B02765",
          "B02765",
          "B02765",
          "B02765",
          "B02765",
          "B02765",
          "B02765",
          "B02765",
          "B02765",
          "B02765"
         ],
         "x0": " ",
         "xaxis": "x",
         "y": [
          225,
          196,
          201,
          183,
          227,
          234,
          248,
          262,
          280,
          245,
          220,
          279,
          258,
          271,
          270,
          290,
          252,
          248,
          238,
          272,
          296,
          295,
          299,
          245,
          226,
          230,
          135,
          286,
          295,
          322,
          309,
          289,
          275,
          299,
          309,
          355,
          385,
          345,
          313,
          388,
          422,
          450,
          536,
          599,
          583,
          521,
          508,
          578,
          586,
          663,
          736,
          685,
          566,
          665,
          698,
          706,
          745,
          786,
          747
         ],
         "y0": " ",
         "yaxis": "y"
        },
        {
         "alignmentgroup": "True",
         "box": {
          "visible": false
         },
         "hovertemplate": "dispatching_base_number=%{x}<br>active_vehicles=%{y}<extra></extra>",
         "legendgroup": "B02764",
         "marker": {
          "color": "#00cc96"
         },
         "name": "B02764",
         "offsetgroup": "B02764",
         "orientation": "v",
         "scalegroup": "True",
         "showlegend": true,
         "type": "violin",
         "x": [
          "B02764",
          "B02764",
          "B02764",
          "B02764",
          "B02764",
          "B02764",
          "B02764",
          "B02764",
          "B02764",
          "B02764",
          "B02764",
          "B02764",
          "B02764",
          "B02764",
          "B02764",
          "B02764",
          "B02764",
          "B02764",
          "B02764",
          "B02764",
          "B02764",
          "B02764",
          "B02764",
          "B02764",
          "B02764",
          "B02764",
          "B02764",
          "B02764",
          "B02764",
          "B02764",
          "B02764",
          "B02764",
          "B02764",
          "B02764",
          "B02764",
          "B02764",
          "B02764",
          "B02764",
          "B02764",
          "B02764",
          "B02764",
          "B02764",
          "B02764",
          "B02764",
          "B02764",
          "B02764",
          "B02764",
          "B02764",
          "B02764",
          "B02764",
          "B02764",
          "B02764",
          "B02764",
          "B02764",
          "B02764",
          "B02764",
          "B02764",
          "B02764",
          "B02764"
         ],
         "x0": " ",
         "xaxis": "x",
         "y": [
          3427,
          3147,
          3215,
          2862,
          3387,
          3473,
          3603,
          3831,
          3820,
          3558,
          3186,
          3499,
          3658,
          3736,
          3840,
          3975,
          3657,
          3290,
          2958,
          3654,
          3718,
          3889,
          4040,
          3652,
          3300,
          3012,
          1619,
          3692,
          3959,
          4124,
          3947,
          3740,
          3270,
          3674,
          3856,
          4093,
          4170,
          3849,
          3422,
          3543,
          3700,
          3849,
          4137,
          4395,
          4129,
          3651,
          3524,
          3826,
          3842,
          4110,
          4384,
          3981,
          3478,
          3734,
          3965,
          3934,
          4101,
          4253,
          3952
         ],
         "y0": " ",
         "yaxis": "y"
        },
        {
         "alignmentgroup": "True",
         "box": {
          "visible": false
         },
         "hovertemplate": "dispatching_base_number=%{x}<br>active_vehicles=%{y}<extra></extra>",
         "legendgroup": "B02682",
         "marker": {
          "color": "#ab63fa"
         },
         "name": "B02682",
         "offsetgroup": "B02682",
         "orientation": "v",
         "scalegroup": "True",
         "showlegend": true,
         "type": "violin",
         "x": [
          "B02682",
          "B02682",
          "B02682",
          "B02682",
          "B02682",
          "B02682",
          "B02682",
          "B02682",
          "B02682",
          "B02682",
          "B02682",
          "B02682",
          "B02682",
          "B02682",
          "B02682",
          "B02682",
          "B02682",
          "B02682",
          "B02682",
          "B02682",
          "B02682",
          "B02682",
          "B02682",
          "B02682",
          "B02682",
          "B02682",
          "B02682",
          "B02682",
          "B02682",
          "B02682",
          "B02682",
          "B02682",
          "B02682",
          "B02682",
          "B02682",
          "B02682",
          "B02682",
          "B02682",
          "B02682",
          "B02682",
          "B02682",
          "B02682",
          "B02682",
          "B02682",
          "B02682",
          "B02682",
          "B02682",
          "B02682",
          "B02682",
          "B02682",
          "B02682",
          "B02682",
          "B02682",
          "B02682",
          "B02682",
          "B02682",
          "B02682",
          "B02682",
          "B02682"
         ],
         "x0": " ",
         "xaxis": "x",
         "y": [
          945,
          890,
          915,
          812,
          951,
          1022,
          1039,
          1135,
          1140,
          1057,
          943,
          1082,
          1092,
          1174,
          1208,
          1250,
          1137,
          1056,
          883,
          1151,
          1228,
          1295,
          1330,
          1223,
          1046,
          1084,
          600,
          1235,
          1316,
          1384,
          1321,
          1214,
          1152,
          1269,
          1311,
          1418,
          1414,
          1300,
          1136,
          1241,
          1281,
          1396,
          1468,
          1523,
          1428,
          1261,
          1164,
          1314,
          1314,
          1428,
          1497,
          1374,
          1220,
          1262,
          1346,
          1395,
          1465,
          1510,
          1386
         ],
         "y0": " ",
         "yaxis": "y"
        },
        {
         "alignmentgroup": "True",
         "box": {
          "visible": false
         },
         "hovertemplate": "dispatching_base_number=%{x}<br>active_vehicles=%{y}<extra></extra>",
         "legendgroup": "B02617",
         "marker": {
          "color": "#FFA15A"
         },
         "name": "B02617",
         "offsetgroup": "B02617",
         "orientation": "v",
         "scalegroup": "True",
         "showlegend": true,
         "type": "violin",
         "x": [
          "B02617",
          "B02617",
          "B02617",
          "B02617",
          "B02617",
          "B02617",
          "B02617",
          "B02617",
          "B02617",
          "B02617",
          "B02617",
          "B02617",
          "B02617",
          "B02617",
          "B02617",
          "B02617",
          "B02617",
          "B02617",
          "B02617",
          "B02617",
          "B02617",
          "B02617",
          "B02617",
          "B02617",
          "B02617",
          "B02617",
          "B02617",
          "B02617",
          "B02617",
          "B02617",
          "B02617",
          "B02617",
          "B02617",
          "B02617",
          "B02617",
          "B02617",
          "B02617",
          "B02617",
          "B02617",
          "B02617",
          "B02617",
          "B02617",
          "B02617",
          "B02617",
          "B02617",
          "B02617",
          "B02617",
          "B02617",
          "B02617",
          "B02617",
          "B02617",
          "B02617",
          "B02617",
          "B02617",
          "B02617",
          "B02617",
          "B02617",
          "B02617",
          "B02617"
         ],
         "x0": " ",
         "xaxis": "x",
         "y": [
          1228,
          1137,
          1188,
          1088,
          1218,
          1336,
          1363,
          1463,
          1455,
          1331,
          1228,
          1323,
          1342,
          1405,
          1457,
          1445,
          1306,
          1223,
          992,
          1350,
          1429,
          1471,
          1482,
          1367,
          1203,
          1150,
          596,
          1356,
          1474,
          1501,
          1394,
          1355,
          1217,
          1350,
          1393,
          1524,
          1526,
          1383,
          1256,
          1312,
          1364,
          1450,
          1532,
          1590,
          1486,
          1293,
          1214,
          1378,
          1394,
          1452,
          1574,
          1443,
          1248,
          1332,
          1456,
          1473,
          1539,
          1551,
          1372
         ],
         "y0": " ",
         "yaxis": "y"
        },
        {
         "alignmentgroup": "True",
         "box": {
          "visible": false
         },
         "hovertemplate": "dispatching_base_number=%{x}<br>active_vehicles=%{y}<extra></extra>",
         "legendgroup": "B02598",
         "marker": {
          "color": "#19d3f3"
         },
         "name": "B02598",
         "offsetgroup": "B02598",
         "orientation": "v",
         "scalegroup": "True",
         "showlegend": true,
         "type": "violin",
         "x": [
          "B02598",
          "B02598",
          "B02598",
          "B02598",
          "B02598",
          "B02598",
          "B02598",
          "B02598",
          "B02598",
          "B02598",
          "B02598",
          "B02598",
          "B02598",
          "B02598",
          "B02598",
          "B02598",
          "B02598",
          "B02598",
          "B02598",
          "B02598",
          "B02598",
          "B02598",
          "B02598",
          "B02598",
          "B02598",
          "B02598",
          "B02598",
          "B02598",
          "B02598",
          "B02598",
          "B02598",
          "B02598",
          "B02598",
          "B02598",
          "B02598",
          "B02598",
          "B02598",
          "B02598",
          "B02598",
          "B02598",
          "B02598",
          "B02598",
          "B02598",
          "B02598",
          "B02598",
          "B02598",
          "B02598",
          "B02598",
          "B02598",
          "B02598",
          "B02598",
          "B02598",
          "B02598",
          "B02598",
          "B02598",
          "B02598",
          "B02598",
          "B02598",
          "B02598"
         ],
         "x0": " ",
         "xaxis": "x",
         "y": [
          870,
          785,
          818,
          746,
          907,
          933,
          974,
          1070,
          1070,
          949,
          832,
          964,
          975,
          1030,
          1068,
          1079,
          974,
          869,
          706,
          944,
          1035,
          1071,
          1093,
          945,
          829,
          860,
          434,
          1011,
          1082,
          1106,
          1027,
          961,
          939,
          991,
          1072,
          1179,
          1181,
          1031,
          923,
          976,
          1029,
          1115,
          1181,
          1216,
          1111,
          1003,
          934,
          1066,
          1078,
          1127,
          1186,
          1044,
          909,
          966,
          1061,
          1076,
          1134,
          1114,
          994
         ],
         "y0": " ",
         "yaxis": "y"
        }
       ],
       "layout": {
        "legend": {
         "title": {
          "text": "dispatching_base_number"
         },
         "tracegroupgap": 0
        },
        "margin": {
         "t": 60
        },
        "template": {
         "data": {
          "bar": [
           {
            "error_x": {
             "color": "#2a3f5f"
            },
            "error_y": {
             "color": "#2a3f5f"
            },
            "marker": {
             "line": {
              "color": "#E5ECF6",
              "width": 0.5
             },
             "pattern": {
              "fillmode": "overlay",
              "size": 10,
              "solidity": 0.2
             }
            },
            "type": "bar"
           }
          ],
          "barpolar": [
           {
            "marker": {
             "line": {
              "color": "#E5ECF6",
              "width": 0.5
             },
             "pattern": {
              "fillmode": "overlay",
              "size": 10,
              "solidity": 0.2
             }
            },
            "type": "barpolar"
           }
          ],
          "carpet": [
           {
            "aaxis": {
             "endlinecolor": "#2a3f5f",
             "gridcolor": "white",
             "linecolor": "white",
             "minorgridcolor": "white",
             "startlinecolor": "#2a3f5f"
            },
            "baxis": {
             "endlinecolor": "#2a3f5f",
             "gridcolor": "white",
             "linecolor": "white",
             "minorgridcolor": "white",
             "startlinecolor": "#2a3f5f"
            },
            "type": "carpet"
           }
          ],
          "choropleth": [
           {
            "colorbar": {
             "outlinewidth": 0,
             "ticks": ""
            },
            "type": "choropleth"
           }
          ],
          "contour": [
           {
            "colorbar": {
             "outlinewidth": 0,
             "ticks": ""
            },
            "colorscale": [
             [
              0,
              "#0d0887"
             ],
             [
              0.1111111111111111,
              "#46039f"
             ],
             [
              0.2222222222222222,
              "#7201a8"
             ],
             [
              0.3333333333333333,
              "#9c179e"
             ],
             [
              0.4444444444444444,
              "#bd3786"
             ],
             [
              0.5555555555555556,
              "#d8576b"
             ],
             [
              0.6666666666666666,
              "#ed7953"
             ],
             [
              0.7777777777777778,
              "#fb9f3a"
             ],
             [
              0.8888888888888888,
              "#fdca26"
             ],
             [
              1,
              "#f0f921"
             ]
            ],
            "type": "contour"
           }
          ],
          "contourcarpet": [
           {
            "colorbar": {
             "outlinewidth": 0,
             "ticks": ""
            },
            "type": "contourcarpet"
           }
          ],
          "heatmap": [
           {
            "colorbar": {
             "outlinewidth": 0,
             "ticks": ""
            },
            "colorscale": [
             [
              0,
              "#0d0887"
             ],
             [
              0.1111111111111111,
              "#46039f"
             ],
             [
              0.2222222222222222,
              "#7201a8"
             ],
             [
              0.3333333333333333,
              "#9c179e"
             ],
             [
              0.4444444444444444,
              "#bd3786"
             ],
             [
              0.5555555555555556,
              "#d8576b"
             ],
             [
              0.6666666666666666,
              "#ed7953"
             ],
             [
              0.7777777777777778,
              "#fb9f3a"
             ],
             [
              0.8888888888888888,
              "#fdca26"
             ],
             [
              1,
              "#f0f921"
             ]
            ],
            "type": "heatmap"
           }
          ],
          "heatmapgl": [
           {
            "colorbar": {
             "outlinewidth": 0,
             "ticks": ""
            },
            "colorscale": [
             [
              0,
              "#0d0887"
             ],
             [
              0.1111111111111111,
              "#46039f"
             ],
             [
              0.2222222222222222,
              "#7201a8"
             ],
             [
              0.3333333333333333,
              "#9c179e"
             ],
             [
              0.4444444444444444,
              "#bd3786"
             ],
             [
              0.5555555555555556,
              "#d8576b"
             ],
             [
              0.6666666666666666,
              "#ed7953"
             ],
             [
              0.7777777777777778,
              "#fb9f3a"
             ],
             [
              0.8888888888888888,
              "#fdca26"
             ],
             [
              1,
              "#f0f921"
             ]
            ],
            "type": "heatmapgl"
           }
          ],
          "histogram": [
           {
            "marker": {
             "pattern": {
              "fillmode": "overlay",
              "size": 10,
              "solidity": 0.2
             }
            },
            "type": "histogram"
           }
          ],
          "histogram2d": [
           {
            "colorbar": {
             "outlinewidth": 0,
             "ticks": ""
            },
            "colorscale": [
             [
              0,
              "#0d0887"
             ],
             [
              0.1111111111111111,
              "#46039f"
             ],
             [
              0.2222222222222222,
              "#7201a8"
             ],
             [
              0.3333333333333333,
              "#9c179e"
             ],
             [
              0.4444444444444444,
              "#bd3786"
             ],
             [
              0.5555555555555556,
              "#d8576b"
             ],
             [
              0.6666666666666666,
              "#ed7953"
             ],
             [
              0.7777777777777778,
              "#fb9f3a"
             ],
             [
              0.8888888888888888,
              "#fdca26"
             ],
             [
              1,
              "#f0f921"
             ]
            ],
            "type": "histogram2d"
           }
          ],
          "histogram2dcontour": [
           {
            "colorbar": {
             "outlinewidth": 0,
             "ticks": ""
            },
            "colorscale": [
             [
              0,
              "#0d0887"
             ],
             [
              0.1111111111111111,
              "#46039f"
             ],
             [
              0.2222222222222222,
              "#7201a8"
             ],
             [
              0.3333333333333333,
              "#9c179e"
             ],
             [
              0.4444444444444444,
              "#bd3786"
             ],
             [
              0.5555555555555556,
              "#d8576b"
             ],
             [
              0.6666666666666666,
              "#ed7953"
             ],
             [
              0.7777777777777778,
              "#fb9f3a"
             ],
             [
              0.8888888888888888,
              "#fdca26"
             ],
             [
              1,
              "#f0f921"
             ]
            ],
            "type": "histogram2dcontour"
           }
          ],
          "mesh3d": [
           {
            "colorbar": {
             "outlinewidth": 0,
             "ticks": ""
            },
            "type": "mesh3d"
           }
          ],
          "parcoords": [
           {
            "line": {
             "colorbar": {
              "outlinewidth": 0,
              "ticks": ""
             }
            },
            "type": "parcoords"
           }
          ],
          "pie": [
           {
            "automargin": true,
            "type": "pie"
           }
          ],
          "scatter": [
           {
            "fillpattern": {
             "fillmode": "overlay",
             "size": 10,
             "solidity": 0.2
            },
            "type": "scatter"
           }
          ],
          "scatter3d": [
           {
            "line": {
             "colorbar": {
              "outlinewidth": 0,
              "ticks": ""
             }
            },
            "marker": {
             "colorbar": {
              "outlinewidth": 0,
              "ticks": ""
             }
            },
            "type": "scatter3d"
           }
          ],
          "scattercarpet": [
           {
            "marker": {
             "colorbar": {
              "outlinewidth": 0,
              "ticks": ""
             }
            },
            "type": "scattercarpet"
           }
          ],
          "scattergeo": [
           {
            "marker": {
             "colorbar": {
              "outlinewidth": 0,
              "ticks": ""
             }
            },
            "type": "scattergeo"
           }
          ],
          "scattergl": [
           {
            "marker": {
             "colorbar": {
              "outlinewidth": 0,
              "ticks": ""
             }
            },
            "type": "scattergl"
           }
          ],
          "scattermapbox": [
           {
            "marker": {
             "colorbar": {
              "outlinewidth": 0,
              "ticks": ""
             }
            },
            "type": "scattermapbox"
           }
          ],
          "scatterpolar": [
           {
            "marker": {
             "colorbar": {
              "outlinewidth": 0,
              "ticks": ""
             }
            },
            "type": "scatterpolar"
           }
          ],
          "scatterpolargl": [
           {
            "marker": {
             "colorbar": {
              "outlinewidth": 0,
              "ticks": ""
             }
            },
            "type": "scatterpolargl"
           }
          ],
          "scatterternary": [
           {
            "marker": {
             "colorbar": {
              "outlinewidth": 0,
              "ticks": ""
             }
            },
            "type": "scatterternary"
           }
          ],
          "surface": [
           {
            "colorbar": {
             "outlinewidth": 0,
             "ticks": ""
            },
            "colorscale": [
             [
              0,
              "#0d0887"
             ],
             [
              0.1111111111111111,
              "#46039f"
             ],
             [
              0.2222222222222222,
              "#7201a8"
             ],
             [
              0.3333333333333333,
              "#9c179e"
             ],
             [
              0.4444444444444444,
              "#bd3786"
             ],
             [
              0.5555555555555556,
              "#d8576b"
             ],
             [
              0.6666666666666666,
              "#ed7953"
             ],
             [
              0.7777777777777778,
              "#fb9f3a"
             ],
             [
              0.8888888888888888,
              "#fdca26"
             ],
             [
              1,
              "#f0f921"
             ]
            ],
            "type": "surface"
           }
          ],
          "table": [
           {
            "cells": {
             "fill": {
              "color": "#EBF0F8"
             },
             "line": {
              "color": "white"
             }
            },
            "header": {
             "fill": {
              "color": "#C8D4E3"
             },
             "line": {
              "color": "white"
             }
            },
            "type": "table"
           }
          ]
         },
         "layout": {
          "annotationdefaults": {
           "arrowcolor": "#2a3f5f",
           "arrowhead": 0,
           "arrowwidth": 1
          },
          "autotypenumbers": "strict",
          "coloraxis": {
           "colorbar": {
            "outlinewidth": 0,
            "ticks": ""
           }
          },
          "colorscale": {
           "diverging": [
            [
             0,
             "#8e0152"
            ],
            [
             0.1,
             "#c51b7d"
            ],
            [
             0.2,
             "#de77ae"
            ],
            [
             0.3,
             "#f1b6da"
            ],
            [
             0.4,
             "#fde0ef"
            ],
            [
             0.5,
             "#f7f7f7"
            ],
            [
             0.6,
             "#e6f5d0"
            ],
            [
             0.7,
             "#b8e186"
            ],
            [
             0.8,
             "#7fbc41"
            ],
            [
             0.9,
             "#4d9221"
            ],
            [
             1,
             "#276419"
            ]
           ],
           "sequential": [
            [
             0,
             "#0d0887"
            ],
            [
             0.1111111111111111,
             "#46039f"
            ],
            [
             0.2222222222222222,
             "#7201a8"
            ],
            [
             0.3333333333333333,
             "#9c179e"
            ],
            [
             0.4444444444444444,
             "#bd3786"
            ],
            [
             0.5555555555555556,
             "#d8576b"
            ],
            [
             0.6666666666666666,
             "#ed7953"
            ],
            [
             0.7777777777777778,
             "#fb9f3a"
            ],
            [
             0.8888888888888888,
             "#fdca26"
            ],
            [
             1,
             "#f0f921"
            ]
           ],
           "sequentialminus": [
            [
             0,
             "#0d0887"
            ],
            [
             0.1111111111111111,
             "#46039f"
            ],
            [
             0.2222222222222222,
             "#7201a8"
            ],
            [
             0.3333333333333333,
             "#9c179e"
            ],
            [
             0.4444444444444444,
             "#bd3786"
            ],
            [
             0.5555555555555556,
             "#d8576b"
            ],
            [
             0.6666666666666666,
             "#ed7953"
            ],
            [
             0.7777777777777778,
             "#fb9f3a"
            ],
            [
             0.8888888888888888,
             "#fdca26"
            ],
            [
             1,
             "#f0f921"
            ]
           ]
          },
          "colorway": [
           "#636efa",
           "#EF553B",
           "#00cc96",
           "#ab63fa",
           "#FFA15A",
           "#19d3f3",
           "#FF6692",
           "#B6E880",
           "#FF97FF",
           "#FECB52"
          ],
          "font": {
           "color": "#2a3f5f"
          },
          "geo": {
           "bgcolor": "white",
           "lakecolor": "white",
           "landcolor": "#E5ECF6",
           "showlakes": true,
           "showland": true,
           "subunitcolor": "white"
          },
          "hoverlabel": {
           "align": "left"
          },
          "hovermode": "closest",
          "mapbox": {
           "style": "light"
          },
          "paper_bgcolor": "white",
          "plot_bgcolor": "#E5ECF6",
          "polar": {
           "angularaxis": {
            "gridcolor": "white",
            "linecolor": "white",
            "ticks": ""
           },
           "bgcolor": "#E5ECF6",
           "radialaxis": {
            "gridcolor": "white",
            "linecolor": "white",
            "ticks": ""
           }
          },
          "scene": {
           "xaxis": {
            "backgroundcolor": "#E5ECF6",
            "gridcolor": "white",
            "gridwidth": 2,
            "linecolor": "white",
            "showbackground": true,
            "ticks": "",
            "zerolinecolor": "white"
           },
           "yaxis": {
            "backgroundcolor": "#E5ECF6",
            "gridcolor": "white",
            "gridwidth": 2,
            "linecolor": "white",
            "showbackground": true,
            "ticks": "",
            "zerolinecolor": "white"
           },
           "zaxis": {
            "backgroundcolor": "#E5ECF6",
            "gridcolor": "white",
            "gridwidth": 2,
            "linecolor": "white",
            "showbackground": true,
            "ticks": "",
            "zerolinecolor": "white"
           }
          },
          "shapedefaults": {
           "line": {
            "color": "#2a3f5f"
           }
          },
          "ternary": {
           "aaxis": {
            "gridcolor": "white",
            "linecolor": "white",
            "ticks": ""
           },
           "baxis": {
            "gridcolor": "white",
            "linecolor": "white",
            "ticks": ""
           },
           "bgcolor": "#E5ECF6",
           "caxis": {
            "gridcolor": "white",
            "linecolor": "white",
            "ticks": ""
           }
          },
          "title": {
           "x": 0.05
          },
          "xaxis": {
           "automargin": true,
           "gridcolor": "white",
           "linecolor": "white",
           "ticks": "",
           "title": {
            "standoff": 15
           },
           "zerolinecolor": "white",
           "zerolinewidth": 2
          },
          "yaxis": {
           "automargin": true,
           "gridcolor": "white",
           "linecolor": "white",
           "ticks": "",
           "title": {
            "standoff": 15
           },
           "zerolinecolor": "white",
           "zerolinewidth": 2
          }
         }
        },
        "violinmode": "overlay",
        "xaxis": {
         "anchor": "y",
         "categoryarray": [
          "B02512",
          "B02765",
          "B02764",
          "B02682",
          "B02617",
          "B02598"
         ],
         "categoryorder": "array",
         "domain": [
          0,
          1
         ],
         "title": {
          "text": "dispatching_base_number"
         }
        },
        "yaxis": {
         "anchor": "x",
         "domain": [
          0,
          1
         ],
         "title": {
          "text": "active_vehicles"
         }
        }
       }
      },
      "text/html": [
       "<div>                            <div id=\"7e474282-e139-4ee1-a881-a99ef8faa244\" class=\"plotly-graph-div\" style=\"height:525px; width:100%;\"></div>            <script type=\"text/javascript\">                require([\"plotly\"], function(Plotly) {                    window.PLOTLYENV=window.PLOTLYENV || {};                                    if (document.getElementById(\"7e474282-e139-4ee1-a881-a99ef8faa244\")) {                    Plotly.newPlot(                        \"7e474282-e139-4ee1-a881-a99ef8faa244\",                        [{\"alignmentgroup\":\"True\",\"box\":{\"visible\":false},\"hovertemplate\":\"dispatching_base_number=%{x}<br>active_vehicles=%{y}<extra></extra>\",\"legendgroup\":\"B02512\",\"marker\":{\"color\":\"#636efa\"},\"name\":\"B02512\",\"offsetgroup\":\"B02512\",\"orientation\":\"v\",\"scalegroup\":\"True\",\"showlegend\":true,\"x\":[\"B02512\",\"B02512\",\"B02512\",\"B02512\",\"B02512\",\"B02512\",\"B02512\",\"B02512\",\"B02512\",\"B02512\",\"B02512\",\"B02512\",\"B02512\",\"B02512\",\"B02512\",\"B02512\",\"B02512\",\"B02512\",\"B02512\",\"B02512\",\"B02512\",\"B02512\",\"B02512\",\"B02512\",\"B02512\",\"B02512\",\"B02512\",\"B02512\",\"B02512\",\"B02512\",\"B02512\",\"B02512\",\"B02512\",\"B02512\",\"B02512\",\"B02512\",\"B02512\",\"B02512\",\"B02512\",\"B02512\",\"B02512\",\"B02512\",\"B02512\",\"B02512\",\"B02512\",\"B02512\",\"B02512\",\"B02512\",\"B02512\",\"B02512\",\"B02512\",\"B02512\",\"B02512\",\"B02512\",\"B02512\",\"B02512\",\"B02512\",\"B02512\",\"B02512\"],\"x0\":\" \",\"xaxis\":\"x\",\"y\":[190,175,173,147,194,218,217,238,224,206,162,217,234,233,237,234,201,177,168,221,242,246,246,211,183,197,112,235,250,256,225,193,227,257,244,264,261,211,176,228,233,255,269,281,236,210,207,241,228,250,272,238,199,238,247,246,243,272,230],\"y0\":\" \",\"yaxis\":\"y\",\"type\":\"violin\"},{\"alignmentgroup\":\"True\",\"box\":{\"visible\":false},\"hovertemplate\":\"dispatching_base_number=%{x}<br>active_vehicles=%{y}<extra></extra>\",\"legendgroup\":\"B02765\",\"marker\":{\"color\":\"#EF553B\"},\"name\":\"B02765\",\"offsetgroup\":\"B02765\",\"orientation\":\"v\",\"scalegroup\":\"True\",\"showlegend\":true,\"x\":[\"B02765\",\"B02765\",\"B02765\",\"B02765\",\"B02765\",\"B02765\",\"B02765\",\"B02765\",\"B02765\",\"B02765\",\"B02765\",\"B02765\",\"B02765\",\"B02765\",\"B02765\",\"B02765\",\"B02765\",\"B02765\",\"B02765\",\"B02765\",\"B02765\",\"B02765\",\"B02765\",\"B02765\",\"B02765\",\"B02765\",\"B02765\",\"B02765\",\"B02765\",\"B02765\",\"B02765\",\"B02765\",\"B02765\",\"B02765\",\"B02765\",\"B02765\",\"B02765\",\"B02765\",\"B02765\",\"B02765\",\"B02765\",\"B02765\",\"B02765\",\"B02765\",\"B02765\",\"B02765\",\"B02765\",\"B02765\",\"B02765\",\"B02765\",\"B02765\",\"B02765\",\"B02765\",\"B02765\",\"B02765\",\"B02765\",\"B02765\",\"B02765\",\"B02765\"],\"x0\":\" \",\"xaxis\":\"x\",\"y\":[225,196,201,183,227,234,248,262,280,245,220,279,258,271,270,290,252,248,238,272,296,295,299,245,226,230,135,286,295,322,309,289,275,299,309,355,385,345,313,388,422,450,536,599,583,521,508,578,586,663,736,685,566,665,698,706,745,786,747],\"y0\":\" \",\"yaxis\":\"y\",\"type\":\"violin\"},{\"alignmentgroup\":\"True\",\"box\":{\"visible\":false},\"hovertemplate\":\"dispatching_base_number=%{x}<br>active_vehicles=%{y}<extra></extra>\",\"legendgroup\":\"B02764\",\"marker\":{\"color\":\"#00cc96\"},\"name\":\"B02764\",\"offsetgroup\":\"B02764\",\"orientation\":\"v\",\"scalegroup\":\"True\",\"showlegend\":true,\"x\":[\"B02764\",\"B02764\",\"B02764\",\"B02764\",\"B02764\",\"B02764\",\"B02764\",\"B02764\",\"B02764\",\"B02764\",\"B02764\",\"B02764\",\"B02764\",\"B02764\",\"B02764\",\"B02764\",\"B02764\",\"B02764\",\"B02764\",\"B02764\",\"B02764\",\"B02764\",\"B02764\",\"B02764\",\"B02764\",\"B02764\",\"B02764\",\"B02764\",\"B02764\",\"B02764\",\"B02764\",\"B02764\",\"B02764\",\"B02764\",\"B02764\",\"B02764\",\"B02764\",\"B02764\",\"B02764\",\"B02764\",\"B02764\",\"B02764\",\"B02764\",\"B02764\",\"B02764\",\"B02764\",\"B02764\",\"B02764\",\"B02764\",\"B02764\",\"B02764\",\"B02764\",\"B02764\",\"B02764\",\"B02764\",\"B02764\",\"B02764\",\"B02764\",\"B02764\"],\"x0\":\" \",\"xaxis\":\"x\",\"y\":[3427,3147,3215,2862,3387,3473,3603,3831,3820,3558,3186,3499,3658,3736,3840,3975,3657,3290,2958,3654,3718,3889,4040,3652,3300,3012,1619,3692,3959,4124,3947,3740,3270,3674,3856,4093,4170,3849,3422,3543,3700,3849,4137,4395,4129,3651,3524,3826,3842,4110,4384,3981,3478,3734,3965,3934,4101,4253,3952],\"y0\":\" \",\"yaxis\":\"y\",\"type\":\"violin\"},{\"alignmentgroup\":\"True\",\"box\":{\"visible\":false},\"hovertemplate\":\"dispatching_base_number=%{x}<br>active_vehicles=%{y}<extra></extra>\",\"legendgroup\":\"B02682\",\"marker\":{\"color\":\"#ab63fa\"},\"name\":\"B02682\",\"offsetgroup\":\"B02682\",\"orientation\":\"v\",\"scalegroup\":\"True\",\"showlegend\":true,\"x\":[\"B02682\",\"B02682\",\"B02682\",\"B02682\",\"B02682\",\"B02682\",\"B02682\",\"B02682\",\"B02682\",\"B02682\",\"B02682\",\"B02682\",\"B02682\",\"B02682\",\"B02682\",\"B02682\",\"B02682\",\"B02682\",\"B02682\",\"B02682\",\"B02682\",\"B02682\",\"B02682\",\"B02682\",\"B02682\",\"B02682\",\"B02682\",\"B02682\",\"B02682\",\"B02682\",\"B02682\",\"B02682\",\"B02682\",\"B02682\",\"B02682\",\"B02682\",\"B02682\",\"B02682\",\"B02682\",\"B02682\",\"B02682\",\"B02682\",\"B02682\",\"B02682\",\"B02682\",\"B02682\",\"B02682\",\"B02682\",\"B02682\",\"B02682\",\"B02682\",\"B02682\",\"B02682\",\"B02682\",\"B02682\",\"B02682\",\"B02682\",\"B02682\",\"B02682\"],\"x0\":\" \",\"xaxis\":\"x\",\"y\":[945,890,915,812,951,1022,1039,1135,1140,1057,943,1082,1092,1174,1208,1250,1137,1056,883,1151,1228,1295,1330,1223,1046,1084,600,1235,1316,1384,1321,1214,1152,1269,1311,1418,1414,1300,1136,1241,1281,1396,1468,1523,1428,1261,1164,1314,1314,1428,1497,1374,1220,1262,1346,1395,1465,1510,1386],\"y0\":\" \",\"yaxis\":\"y\",\"type\":\"violin\"},{\"alignmentgroup\":\"True\",\"box\":{\"visible\":false},\"hovertemplate\":\"dispatching_base_number=%{x}<br>active_vehicles=%{y}<extra></extra>\",\"legendgroup\":\"B02617\",\"marker\":{\"color\":\"#FFA15A\"},\"name\":\"B02617\",\"offsetgroup\":\"B02617\",\"orientation\":\"v\",\"scalegroup\":\"True\",\"showlegend\":true,\"x\":[\"B02617\",\"B02617\",\"B02617\",\"B02617\",\"B02617\",\"B02617\",\"B02617\",\"B02617\",\"B02617\",\"B02617\",\"B02617\",\"B02617\",\"B02617\",\"B02617\",\"B02617\",\"B02617\",\"B02617\",\"B02617\",\"B02617\",\"B02617\",\"B02617\",\"B02617\",\"B02617\",\"B02617\",\"B02617\",\"B02617\",\"B02617\",\"B02617\",\"B02617\",\"B02617\",\"B02617\",\"B02617\",\"B02617\",\"B02617\",\"B02617\",\"B02617\",\"B02617\",\"B02617\",\"B02617\",\"B02617\",\"B02617\",\"B02617\",\"B02617\",\"B02617\",\"B02617\",\"B02617\",\"B02617\",\"B02617\",\"B02617\",\"B02617\",\"B02617\",\"B02617\",\"B02617\",\"B02617\",\"B02617\",\"B02617\",\"B02617\",\"B02617\",\"B02617\"],\"x0\":\" \",\"xaxis\":\"x\",\"y\":[1228,1137,1188,1088,1218,1336,1363,1463,1455,1331,1228,1323,1342,1405,1457,1445,1306,1223,992,1350,1429,1471,1482,1367,1203,1150,596,1356,1474,1501,1394,1355,1217,1350,1393,1524,1526,1383,1256,1312,1364,1450,1532,1590,1486,1293,1214,1378,1394,1452,1574,1443,1248,1332,1456,1473,1539,1551,1372],\"y0\":\" \",\"yaxis\":\"y\",\"type\":\"violin\"},{\"alignmentgroup\":\"True\",\"box\":{\"visible\":false},\"hovertemplate\":\"dispatching_base_number=%{x}<br>active_vehicles=%{y}<extra></extra>\",\"legendgroup\":\"B02598\",\"marker\":{\"color\":\"#19d3f3\"},\"name\":\"B02598\",\"offsetgroup\":\"B02598\",\"orientation\":\"v\",\"scalegroup\":\"True\",\"showlegend\":true,\"x\":[\"B02598\",\"B02598\",\"B02598\",\"B02598\",\"B02598\",\"B02598\",\"B02598\",\"B02598\",\"B02598\",\"B02598\",\"B02598\",\"B02598\",\"B02598\",\"B02598\",\"B02598\",\"B02598\",\"B02598\",\"B02598\",\"B02598\",\"B02598\",\"B02598\",\"B02598\",\"B02598\",\"B02598\",\"B02598\",\"B02598\",\"B02598\",\"B02598\",\"B02598\",\"B02598\",\"B02598\",\"B02598\",\"B02598\",\"B02598\",\"B02598\",\"B02598\",\"B02598\",\"B02598\",\"B02598\",\"B02598\",\"B02598\",\"B02598\",\"B02598\",\"B02598\",\"B02598\",\"B02598\",\"B02598\",\"B02598\",\"B02598\",\"B02598\",\"B02598\",\"B02598\",\"B02598\",\"B02598\",\"B02598\",\"B02598\",\"B02598\",\"B02598\",\"B02598\"],\"x0\":\" \",\"xaxis\":\"x\",\"y\":[870,785,818,746,907,933,974,1070,1070,949,832,964,975,1030,1068,1079,974,869,706,944,1035,1071,1093,945,829,860,434,1011,1082,1106,1027,961,939,991,1072,1179,1181,1031,923,976,1029,1115,1181,1216,1111,1003,934,1066,1078,1127,1186,1044,909,966,1061,1076,1134,1114,994],\"y0\":\" \",\"yaxis\":\"y\",\"type\":\"violin\"}],                        {\"template\":{\"data\":{\"histogram2dcontour\":[{\"type\":\"histogram2dcontour\",\"colorbar\":{\"outlinewidth\":0,\"ticks\":\"\"},\"colorscale\":[[0.0,\"#0d0887\"],[0.1111111111111111,\"#46039f\"],[0.2222222222222222,\"#7201a8\"],[0.3333333333333333,\"#9c179e\"],[0.4444444444444444,\"#bd3786\"],[0.5555555555555556,\"#d8576b\"],[0.6666666666666666,\"#ed7953\"],[0.7777777777777778,\"#fb9f3a\"],[0.8888888888888888,\"#fdca26\"],[1.0,\"#f0f921\"]]}],\"choropleth\":[{\"type\":\"choropleth\",\"colorbar\":{\"outlinewidth\":0,\"ticks\":\"\"}}],\"histogram2d\":[{\"type\":\"histogram2d\",\"colorbar\":{\"outlinewidth\":0,\"ticks\":\"\"},\"colorscale\":[[0.0,\"#0d0887\"],[0.1111111111111111,\"#46039f\"],[0.2222222222222222,\"#7201a8\"],[0.3333333333333333,\"#9c179e\"],[0.4444444444444444,\"#bd3786\"],[0.5555555555555556,\"#d8576b\"],[0.6666666666666666,\"#ed7953\"],[0.7777777777777778,\"#fb9f3a\"],[0.8888888888888888,\"#fdca26\"],[1.0,\"#f0f921\"]]}],\"heatmap\":[{\"type\":\"heatmap\",\"colorbar\":{\"outlinewidth\":0,\"ticks\":\"\"},\"colorscale\":[[0.0,\"#0d0887\"],[0.1111111111111111,\"#46039f\"],[0.2222222222222222,\"#7201a8\"],[0.3333333333333333,\"#9c179e\"],[0.4444444444444444,\"#bd3786\"],[0.5555555555555556,\"#d8576b\"],[0.6666666666666666,\"#ed7953\"],[0.7777777777777778,\"#fb9f3a\"],[0.8888888888888888,\"#fdca26\"],[1.0,\"#f0f921\"]]}],\"heatmapgl\":[{\"type\":\"heatmapgl\",\"colorbar\":{\"outlinewidth\":0,\"ticks\":\"\"},\"colorscale\":[[0.0,\"#0d0887\"],[0.1111111111111111,\"#46039f\"],[0.2222222222222222,\"#7201a8\"],[0.3333333333333333,\"#9c179e\"],[0.4444444444444444,\"#bd3786\"],[0.5555555555555556,\"#d8576b\"],[0.6666666666666666,\"#ed7953\"],[0.7777777777777778,\"#fb9f3a\"],[0.8888888888888888,\"#fdca26\"],[1.0,\"#f0f921\"]]}],\"contourcarpet\":[{\"type\":\"contourcarpet\",\"colorbar\":{\"outlinewidth\":0,\"ticks\":\"\"}}],\"contour\":[{\"type\":\"contour\",\"colorbar\":{\"outlinewidth\":0,\"ticks\":\"\"},\"colorscale\":[[0.0,\"#0d0887\"],[0.1111111111111111,\"#46039f\"],[0.2222222222222222,\"#7201a8\"],[0.3333333333333333,\"#9c179e\"],[0.4444444444444444,\"#bd3786\"],[0.5555555555555556,\"#d8576b\"],[0.6666666666666666,\"#ed7953\"],[0.7777777777777778,\"#fb9f3a\"],[0.8888888888888888,\"#fdca26\"],[1.0,\"#f0f921\"]]}],\"surface\":[{\"type\":\"surface\",\"colorbar\":{\"outlinewidth\":0,\"ticks\":\"\"},\"colorscale\":[[0.0,\"#0d0887\"],[0.1111111111111111,\"#46039f\"],[0.2222222222222222,\"#7201a8\"],[0.3333333333333333,\"#9c179e\"],[0.4444444444444444,\"#bd3786\"],[0.5555555555555556,\"#d8576b\"],[0.6666666666666666,\"#ed7953\"],[0.7777777777777778,\"#fb9f3a\"],[0.8888888888888888,\"#fdca26\"],[1.0,\"#f0f921\"]]}],\"mesh3d\":[{\"type\":\"mesh3d\",\"colorbar\":{\"outlinewidth\":0,\"ticks\":\"\"}}],\"scatter\":[{\"fillpattern\":{\"fillmode\":\"overlay\",\"size\":10,\"solidity\":0.2},\"type\":\"scatter\"}],\"parcoords\":[{\"type\":\"parcoords\",\"line\":{\"colorbar\":{\"outlinewidth\":0,\"ticks\":\"\"}}}],\"scatterpolargl\":[{\"type\":\"scatterpolargl\",\"marker\":{\"colorbar\":{\"outlinewidth\":0,\"ticks\":\"\"}}}],\"bar\":[{\"error_x\":{\"color\":\"#2a3f5f\"},\"error_y\":{\"color\":\"#2a3f5f\"},\"marker\":{\"line\":{\"color\":\"#E5ECF6\",\"width\":0.5},\"pattern\":{\"fillmode\":\"overlay\",\"size\":10,\"solidity\":0.2}},\"type\":\"bar\"}],\"scattergeo\":[{\"type\":\"scattergeo\",\"marker\":{\"colorbar\":{\"outlinewidth\":0,\"ticks\":\"\"}}}],\"scatterpolar\":[{\"type\":\"scatterpolar\",\"marker\":{\"colorbar\":{\"outlinewidth\":0,\"ticks\":\"\"}}}],\"histogram\":[{\"marker\":{\"pattern\":{\"fillmode\":\"overlay\",\"size\":10,\"solidity\":0.2}},\"type\":\"histogram\"}],\"scattergl\":[{\"type\":\"scattergl\",\"marker\":{\"colorbar\":{\"outlinewidth\":0,\"ticks\":\"\"}}}],\"scatter3d\":[{\"type\":\"scatter3d\",\"line\":{\"colorbar\":{\"outlinewidth\":0,\"ticks\":\"\"}},\"marker\":{\"colorbar\":{\"outlinewidth\":0,\"ticks\":\"\"}}}],\"scattermapbox\":[{\"type\":\"scattermapbox\",\"marker\":{\"colorbar\":{\"outlinewidth\":0,\"ticks\":\"\"}}}],\"scatterternary\":[{\"type\":\"scatterternary\",\"marker\":{\"colorbar\":{\"outlinewidth\":0,\"ticks\":\"\"}}}],\"scattercarpet\":[{\"type\":\"scattercarpet\",\"marker\":{\"colorbar\":{\"outlinewidth\":0,\"ticks\":\"\"}}}],\"carpet\":[{\"aaxis\":{\"endlinecolor\":\"#2a3f5f\",\"gridcolor\":\"white\",\"linecolor\":\"white\",\"minorgridcolor\":\"white\",\"startlinecolor\":\"#2a3f5f\"},\"baxis\":{\"endlinecolor\":\"#2a3f5f\",\"gridcolor\":\"white\",\"linecolor\":\"white\",\"minorgridcolor\":\"white\",\"startlinecolor\":\"#2a3f5f\"},\"type\":\"carpet\"}],\"table\":[{\"cells\":{\"fill\":{\"color\":\"#EBF0F8\"},\"line\":{\"color\":\"white\"}},\"header\":{\"fill\":{\"color\":\"#C8D4E3\"},\"line\":{\"color\":\"white\"}},\"type\":\"table\"}],\"barpolar\":[{\"marker\":{\"line\":{\"color\":\"#E5ECF6\",\"width\":0.5},\"pattern\":{\"fillmode\":\"overlay\",\"size\":10,\"solidity\":0.2}},\"type\":\"barpolar\"}],\"pie\":[{\"automargin\":true,\"type\":\"pie\"}]},\"layout\":{\"autotypenumbers\":\"strict\",\"colorway\":[\"#636efa\",\"#EF553B\",\"#00cc96\",\"#ab63fa\",\"#FFA15A\",\"#19d3f3\",\"#FF6692\",\"#B6E880\",\"#FF97FF\",\"#FECB52\"],\"font\":{\"color\":\"#2a3f5f\"},\"hovermode\":\"closest\",\"hoverlabel\":{\"align\":\"left\"},\"paper_bgcolor\":\"white\",\"plot_bgcolor\":\"#E5ECF6\",\"polar\":{\"bgcolor\":\"#E5ECF6\",\"angularaxis\":{\"gridcolor\":\"white\",\"linecolor\":\"white\",\"ticks\":\"\"},\"radialaxis\":{\"gridcolor\":\"white\",\"linecolor\":\"white\",\"ticks\":\"\"}},\"ternary\":{\"bgcolor\":\"#E5ECF6\",\"aaxis\":{\"gridcolor\":\"white\",\"linecolor\":\"white\",\"ticks\":\"\"},\"baxis\":{\"gridcolor\":\"white\",\"linecolor\":\"white\",\"ticks\":\"\"},\"caxis\":{\"gridcolor\":\"white\",\"linecolor\":\"white\",\"ticks\":\"\"}},\"coloraxis\":{\"colorbar\":{\"outlinewidth\":0,\"ticks\":\"\"}},\"colorscale\":{\"sequential\":[[0.0,\"#0d0887\"],[0.1111111111111111,\"#46039f\"],[0.2222222222222222,\"#7201a8\"],[0.3333333333333333,\"#9c179e\"],[0.4444444444444444,\"#bd3786\"],[0.5555555555555556,\"#d8576b\"],[0.6666666666666666,\"#ed7953\"],[0.7777777777777778,\"#fb9f3a\"],[0.8888888888888888,\"#fdca26\"],[1.0,\"#f0f921\"]],\"sequentialminus\":[[0.0,\"#0d0887\"],[0.1111111111111111,\"#46039f\"],[0.2222222222222222,\"#7201a8\"],[0.3333333333333333,\"#9c179e\"],[0.4444444444444444,\"#bd3786\"],[0.5555555555555556,\"#d8576b\"],[0.6666666666666666,\"#ed7953\"],[0.7777777777777778,\"#fb9f3a\"],[0.8888888888888888,\"#fdca26\"],[1.0,\"#f0f921\"]],\"diverging\":[[0,\"#8e0152\"],[0.1,\"#c51b7d\"],[0.2,\"#de77ae\"],[0.3,\"#f1b6da\"],[0.4,\"#fde0ef\"],[0.5,\"#f7f7f7\"],[0.6,\"#e6f5d0\"],[0.7,\"#b8e186\"],[0.8,\"#7fbc41\"],[0.9,\"#4d9221\"],[1,\"#276419\"]]},\"xaxis\":{\"gridcolor\":\"white\",\"linecolor\":\"white\",\"ticks\":\"\",\"title\":{\"standoff\":15},\"zerolinecolor\":\"white\",\"automargin\":true,\"zerolinewidth\":2},\"yaxis\":{\"gridcolor\":\"white\",\"linecolor\":\"white\",\"ticks\":\"\",\"title\":{\"standoff\":15},\"zerolinecolor\":\"white\",\"automargin\":true,\"zerolinewidth\":2},\"scene\":{\"xaxis\":{\"backgroundcolor\":\"#E5ECF6\",\"gridcolor\":\"white\",\"linecolor\":\"white\",\"showbackground\":true,\"ticks\":\"\",\"zerolinecolor\":\"white\",\"gridwidth\":2},\"yaxis\":{\"backgroundcolor\":\"#E5ECF6\",\"gridcolor\":\"white\",\"linecolor\":\"white\",\"showbackground\":true,\"ticks\":\"\",\"zerolinecolor\":\"white\",\"gridwidth\":2},\"zaxis\":{\"backgroundcolor\":\"#E5ECF6\",\"gridcolor\":\"white\",\"linecolor\":\"white\",\"showbackground\":true,\"ticks\":\"\",\"zerolinecolor\":\"white\",\"gridwidth\":2}},\"shapedefaults\":{\"line\":{\"color\":\"#2a3f5f\"}},\"annotationdefaults\":{\"arrowcolor\":\"#2a3f5f\",\"arrowhead\":0,\"arrowwidth\":1},\"geo\":{\"bgcolor\":\"white\",\"landcolor\":\"#E5ECF6\",\"subunitcolor\":\"white\",\"showland\":true,\"showlakes\":true,\"lakecolor\":\"white\"},\"title\":{\"x\":0.05},\"mapbox\":{\"style\":\"light\"}}},\"xaxis\":{\"anchor\":\"y\",\"domain\":[0.0,1.0],\"title\":{\"text\":\"dispatching_base_number\"},\"categoryorder\":\"array\",\"categoryarray\":[\"B02512\",\"B02765\",\"B02764\",\"B02682\",\"B02617\",\"B02598\"]},\"yaxis\":{\"anchor\":\"x\",\"domain\":[0.0,1.0],\"title\":{\"text\":\"active_vehicles\"}},\"legend\":{\"title\":{\"text\":\"dispatching_base_number\"},\"tracegroupgap\":0},\"margin\":{\"t\":60},\"violinmode\":\"overlay\"},                        {\"responsive\": true}                    ).then(function(){\n",
       "                            \n",
       "var gd = document.getElementById('7e474282-e139-4ee1-a881-a99ef8faa244');\n",
       "var x = new MutationObserver(function (mutations, observer) {{\n",
       "        var display = window.getComputedStyle(gd).display;\n",
       "        if (!display || display === 'none') {{\n",
       "            console.log([gd, 'removed!']);\n",
       "            Plotly.purge(gd);\n",
       "            observer.disconnect();\n",
       "        }}\n",
       "}});\n",
       "\n",
       "// Listen for the removal of the full notebook cells\n",
       "var notebookContainer = gd.closest('#notebook-container');\n",
       "if (notebookContainer) {{\n",
       "    x.observe(notebookContainer, {childList: true});\n",
       "}}\n",
       "\n",
       "// Listen for the clearing of the current output cell\n",
       "var outputEl = gd.closest('.output');\n",
       "if (outputEl) {{\n",
       "    x.observe(outputEl, {childList: true});\n",
       "}}\n",
       "\n",
       "                        })                };                });            </script>        </div>"
      ]
     },
     "metadata": {},
     "output_type": "display_data"
    }
   ],
   "source": [
    "px.violin(x='dispatching_base_number',y='active_vehicles',color='dispatching_base_number',data_frame=uber_foil)"
   ]
  },
  {
   "cell_type": "markdown",
   "id": "956141e9",
   "metadata": {},
   "source": [
    "## Collect entire data & Make it ready for the Data Analysis"
   ]
  },
  {
   "cell_type": "code",
   "execution_count": 37,
   "id": "70a4034a",
   "metadata": {},
   "outputs": [],
   "source": [
    "import os"
   ]
  },
  {
   "cell_type": "code",
   "execution_count": 39,
   "id": "896401b3",
   "metadata": {},
   "outputs": [],
   "source": [
    "files=os.listdir(r\"C:\\Users\\Oluwasegun\\Downloads\\Project 1..Uber New York Trip-20221224T155136Z-001\\Project 1..Uber New York Trip\\uber-pickups-in-new-york-city\")[-7:]"
   ]
  },
  {
   "cell_type": "code",
   "execution_count": 40,
   "id": "1b8a75ff",
   "metadata": {},
   "outputs": [
    {
     "data": {
      "text/plain": [
       "['uber-raw-data-apr14.csv',\n",
       " 'uber-raw-data-aug14.csv',\n",
       " 'uber-raw-data-janjune-15.csv',\n",
       " 'uber-raw-data-jul14.csv',\n",
       " 'uber-raw-data-jun14.csv',\n",
       " 'uber-raw-data-may14.csv',\n",
       " 'uber-raw-data-sep14.csv']"
      ]
     },
     "execution_count": 40,
     "metadata": {},
     "output_type": "execute_result"
    }
   ],
   "source": [
    "files"
   ]
  },
  {
   "cell_type": "code",
   "execution_count": 41,
   "id": "2abdc35a",
   "metadata": {},
   "outputs": [],
   "source": [
    "files.remove('uber-raw-data-janjune-15.csv')"
   ]
  },
  {
   "cell_type": "code",
   "execution_count": 42,
   "id": "7940d9fa",
   "metadata": {},
   "outputs": [
    {
     "data": {
      "text/plain": [
       "['uber-raw-data-apr14.csv',\n",
       " 'uber-raw-data-aug14.csv',\n",
       " 'uber-raw-data-jul14.csv',\n",
       " 'uber-raw-data-jun14.csv',\n",
       " 'uber-raw-data-may14.csv',\n",
       " 'uber-raw-data-sep14.csv']"
      ]
     },
     "execution_count": 42,
     "metadata": {},
     "output_type": "execute_result"
    }
   ],
   "source": [
    "files"
   ]
  },
  {
   "cell_type": "code",
   "execution_count": 43,
   "id": "661ec690",
   "metadata": {},
   "outputs": [],
   "source": [
    "path = r'C:\\Users\\Oluwasegun\\Downloads\\Project 1..Uber New York Trip-20221224T155136Z-001\\Project 1..Uber New York Trip\\uber-pickups-in-new-york-city'\n",
    "\n",
    "final = pd.DataFrame()\n",
    "\n",
    "for file in files:\n",
    "    current_df = pd.read_csv(path+ '/' +file,encoding='utf-8')\n",
    "    final = pd.concat([current_df,final])"
   ]
  },
  {
   "cell_type": "code",
   "execution_count": 44,
   "id": "c855b212",
   "metadata": {},
   "outputs": [
    {
     "data": {
      "text/plain": [
       "(4534327, 4)"
      ]
     },
     "execution_count": 44,
     "metadata": {},
     "output_type": "execute_result"
    }
   ],
   "source": [
    "final.shape"
   ]
  },
  {
   "cell_type": "code",
   "execution_count": 45,
   "id": "c089888d",
   "metadata": {},
   "outputs": [
    {
     "data": {
      "text/html": [
       "<div>\n",
       "<style scoped>\n",
       "    .dataframe tbody tr th:only-of-type {\n",
       "        vertical-align: middle;\n",
       "    }\n",
       "\n",
       "    .dataframe tbody tr th {\n",
       "        vertical-align: top;\n",
       "    }\n",
       "\n",
       "    .dataframe thead th {\n",
       "        text-align: right;\n",
       "    }\n",
       "</style>\n",
       "<table border=\"1\" class=\"dataframe\">\n",
       "  <thead>\n",
       "    <tr style=\"text-align: right;\">\n",
       "      <th></th>\n",
       "      <th>Date/Time</th>\n",
       "      <th>Lat</th>\n",
       "      <th>Lon</th>\n",
       "      <th>Base</th>\n",
       "    </tr>\n",
       "  </thead>\n",
       "  <tbody>\n",
       "    <tr>\n",
       "      <th>0</th>\n",
       "      <td>9/1/2014 0:01:00</td>\n",
       "      <td>40.2201</td>\n",
       "      <td>-74.0021</td>\n",
       "      <td>B02512</td>\n",
       "    </tr>\n",
       "    <tr>\n",
       "      <th>1</th>\n",
       "      <td>9/1/2014 0:01:00</td>\n",
       "      <td>40.7500</td>\n",
       "      <td>-74.0027</td>\n",
       "      <td>B02512</td>\n",
       "    </tr>\n",
       "    <tr>\n",
       "      <th>2</th>\n",
       "      <td>9/1/2014 0:03:00</td>\n",
       "      <td>40.7559</td>\n",
       "      <td>-73.9864</td>\n",
       "      <td>B02512</td>\n",
       "    </tr>\n",
       "    <tr>\n",
       "      <th>3</th>\n",
       "      <td>9/1/2014 0:06:00</td>\n",
       "      <td>40.7450</td>\n",
       "      <td>-73.9889</td>\n",
       "      <td>B02512</td>\n",
       "    </tr>\n",
       "    <tr>\n",
       "      <th>4</th>\n",
       "      <td>9/1/2014 0:11:00</td>\n",
       "      <td>40.8145</td>\n",
       "      <td>-73.9444</td>\n",
       "      <td>B02512</td>\n",
       "    </tr>\n",
       "  </tbody>\n",
       "</table>\n",
       "</div>"
      ],
      "text/plain": [
       "          Date/Time      Lat      Lon    Base\n",
       "0  9/1/2014 0:01:00  40.2201 -74.0021  B02512\n",
       "1  9/1/2014 0:01:00  40.7500 -74.0027  B02512\n",
       "2  9/1/2014 0:03:00  40.7559 -73.9864  B02512\n",
       "3  9/1/2014 0:06:00  40.7450 -73.9889  B02512\n",
       "4  9/1/2014 0:11:00  40.8145 -73.9444  B02512"
      ]
     },
     "execution_count": 45,
     "metadata": {},
     "output_type": "execute_result"
    }
   ],
   "source": [
    "final.head()"
   ]
  },
  {
   "cell_type": "code",
   "execution_count": 47,
   "id": "29a8f54c",
   "metadata": {},
   "outputs": [
    {
     "data": {
      "text/plain": [
       "82581"
      ]
     },
     "execution_count": 47,
     "metadata": {},
     "output_type": "execute_result"
    }
   ],
   "source": [
    "final.duplicated().sum()"
   ]
  },
  {
   "cell_type": "code",
   "execution_count": 48,
   "id": "a6514342",
   "metadata": {},
   "outputs": [],
   "source": [
    "final.drop_duplicates(inplace=True)"
   ]
  },
  {
   "cell_type": "code",
   "execution_count": 49,
   "id": "022f4081",
   "metadata": {},
   "outputs": [
    {
     "data": {
      "text/plain": [
       "(4451746, 4)"
      ]
     },
     "execution_count": 49,
     "metadata": {},
     "output_type": "execute_result"
    }
   ],
   "source": [
    "final.shape"
   ]
  },
  {
   "cell_type": "markdown",
   "id": "c16e9141",
   "metadata": {},
   "source": [
    "# at what locations of New York City we are getting rush ?"
   ]
  },
  {
   "cell_type": "code",
   "execution_count": 50,
   "id": "4851d9ce",
   "metadata": {},
   "outputs": [],
   "source": [
    "rush_uber = final.groupby(['Lat','Lon'],as_index=False).size()"
   ]
  },
  {
   "cell_type": "code",
   "execution_count": 51,
   "id": "5892cde4",
   "metadata": {},
   "outputs": [
    {
     "data": {
      "text/html": [
       "<div>\n",
       "<style scoped>\n",
       "    .dataframe tbody tr th:only-of-type {\n",
       "        vertical-align: middle;\n",
       "    }\n",
       "\n",
       "    .dataframe tbody tr th {\n",
       "        vertical-align: top;\n",
       "    }\n",
       "\n",
       "    .dataframe thead th {\n",
       "        text-align: right;\n",
       "    }\n",
       "</style>\n",
       "<table border=\"1\" class=\"dataframe\">\n",
       "  <thead>\n",
       "    <tr style=\"text-align: right;\">\n",
       "      <th></th>\n",
       "      <th>Lat</th>\n",
       "      <th>Lon</th>\n",
       "      <th>size</th>\n",
       "    </tr>\n",
       "  </thead>\n",
       "  <tbody>\n",
       "    <tr>\n",
       "      <th>0</th>\n",
       "      <td>39.6569</td>\n",
       "      <td>-74.2258</td>\n",
       "      <td>1</td>\n",
       "    </tr>\n",
       "    <tr>\n",
       "      <th>1</th>\n",
       "      <td>39.6686</td>\n",
       "      <td>-74.1607</td>\n",
       "      <td>1</td>\n",
       "    </tr>\n",
       "    <tr>\n",
       "      <th>2</th>\n",
       "      <td>39.7214</td>\n",
       "      <td>-74.2446</td>\n",
       "      <td>1</td>\n",
       "    </tr>\n",
       "    <tr>\n",
       "      <th>3</th>\n",
       "      <td>39.8416</td>\n",
       "      <td>-74.1512</td>\n",
       "      <td>1</td>\n",
       "    </tr>\n",
       "    <tr>\n",
       "      <th>4</th>\n",
       "      <td>39.9055</td>\n",
       "      <td>-74.0791</td>\n",
       "      <td>1</td>\n",
       "    </tr>\n",
       "    <tr>\n",
       "      <th>...</th>\n",
       "      <td>...</td>\n",
       "      <td>...</td>\n",
       "      <td>...</td>\n",
       "    </tr>\n",
       "    <tr>\n",
       "      <th>574553</th>\n",
       "      <td>41.3730</td>\n",
       "      <td>-72.9237</td>\n",
       "      <td>1</td>\n",
       "    </tr>\n",
       "    <tr>\n",
       "      <th>574554</th>\n",
       "      <td>41.3737</td>\n",
       "      <td>-73.7988</td>\n",
       "      <td>1</td>\n",
       "    </tr>\n",
       "    <tr>\n",
       "      <th>574555</th>\n",
       "      <td>41.5016</td>\n",
       "      <td>-72.8987</td>\n",
       "      <td>1</td>\n",
       "    </tr>\n",
       "    <tr>\n",
       "      <th>574556</th>\n",
       "      <td>41.5276</td>\n",
       "      <td>-72.7734</td>\n",
       "      <td>1</td>\n",
       "    </tr>\n",
       "    <tr>\n",
       "      <th>574557</th>\n",
       "      <td>42.1166</td>\n",
       "      <td>-72.0666</td>\n",
       "      <td>1</td>\n",
       "    </tr>\n",
       "  </tbody>\n",
       "</table>\n",
       "<p>574558 rows × 3 columns</p>\n",
       "</div>"
      ],
      "text/plain": [
       "            Lat      Lon  size\n",
       "0       39.6569 -74.2258     1\n",
       "1       39.6686 -74.1607     1\n",
       "2       39.7214 -74.2446     1\n",
       "3       39.8416 -74.1512     1\n",
       "4       39.9055 -74.0791     1\n",
       "...         ...      ...   ...\n",
       "574553  41.3730 -72.9237     1\n",
       "574554  41.3737 -73.7988     1\n",
       "574555  41.5016 -72.8987     1\n",
       "574556  41.5276 -72.7734     1\n",
       "574557  42.1166 -72.0666     1\n",
       "\n",
       "[574558 rows x 3 columns]"
      ]
     },
     "execution_count": 51,
     "metadata": {},
     "output_type": "execute_result"
    }
   ],
   "source": [
    "rush_uber"
   ]
  },
  {
   "cell_type": "code",
   "execution_count": 55,
   "id": "a9636a0a",
   "metadata": {},
   "outputs": [],
   "source": [
    "import folium\n",
    "from folium.plugins import HeatMap"
   ]
  },
  {
   "cell_type": "code",
   "execution_count": 56,
   "id": "c987fb24",
   "metadata": {},
   "outputs": [],
   "source": [
    "basemap = folium.Map()"
   ]
  },
  {
   "cell_type": "code",
   "execution_count": null,
   "id": "e9ccdd47",
   "metadata": {},
   "outputs": [],
   "source": [
    "HeatMap(rush_uber).add_to(basemap)"
   ]
  },
  {
   "cell_type": "code",
   "execution_count": null,
   "id": "4184020c",
   "metadata": {},
   "outputs": [],
   "source": []
  },
  {
   "cell_type": "code",
   "execution_count": null,
   "id": "95abce5b",
   "metadata": {},
   "outputs": [],
   "source": []
  },
  {
   "cell_type": "code",
   "execution_count": null,
   "id": "142b2b05",
   "metadata": {},
   "outputs": [],
   "source": []
  }
 ],
 "metadata": {
  "kernelspec": {
   "display_name": "Python 3 (ipykernel)",
   "language": "python",
   "name": "python3"
  },
  "language_info": {
   "codemirror_mode": {
    "name": "ipython",
    "version": 3
   },
   "file_extension": ".py",
   "mimetype": "text/x-python",
   "name": "python",
   "nbconvert_exporter": "python",
   "pygments_lexer": "ipython3",
   "version": "3.8.12"
  }
 },
 "nbformat": 4,
 "nbformat_minor": 5
}
